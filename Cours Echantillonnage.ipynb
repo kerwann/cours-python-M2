{
 "cells": [
  {
   "cell_type": "code",
   "execution_count": 1,
   "metadata": {
    "slideshow": {
     "slide_type": "notes"
    }
   },
   "outputs": [
    {
     "data": {
      "text/html": [
       "\n",
       "    <div class=\"bk-root\">\n",
       "        <a href=\"https://bokeh.org\" target=\"_blank\" class=\"bk-logo bk-logo-small bk-logo-notebook\"></a>\n",
       "        <span id=\"1001\">Loading BokehJS ...</span>\n",
       "    </div>"
      ]
     },
     "metadata": {},
     "output_type": "display_data"
    },
    {
     "data": {
      "application/javascript": [
       "\n",
       "(function(root) {\n",
       "  function now() {\n",
       "    return new Date();\n",
       "  }\n",
       "\n",
       "  var force = true;\n",
       "\n",
       "  if (typeof root._bokeh_onload_callbacks === \"undefined\" || force === true) {\n",
       "    root._bokeh_onload_callbacks = [];\n",
       "    root._bokeh_is_loading = undefined;\n",
       "  }\n",
       "\n",
       "  var JS_MIME_TYPE = 'application/javascript';\n",
       "  var HTML_MIME_TYPE = 'text/html';\n",
       "  var EXEC_MIME_TYPE = 'application/vnd.bokehjs_exec.v0+json';\n",
       "  var CLASS_NAME = 'output_bokeh rendered_html';\n",
       "\n",
       "  /**\n",
       "   * Render data to the DOM node\n",
       "   */\n",
       "  function render(props, node) {\n",
       "    var script = document.createElement(\"script\");\n",
       "    node.appendChild(script);\n",
       "  }\n",
       "\n",
       "  /**\n",
       "   * Handle when an output is cleared or removed\n",
       "   */\n",
       "  function handleClearOutput(event, handle) {\n",
       "    var cell = handle.cell;\n",
       "\n",
       "    var id = cell.output_area._bokeh_element_id;\n",
       "    var server_id = cell.output_area._bokeh_server_id;\n",
       "    // Clean up Bokeh references\n",
       "    if (id != null && id in Bokeh.index) {\n",
       "      Bokeh.index[id].model.document.clear();\n",
       "      delete Bokeh.index[id];\n",
       "    }\n",
       "\n",
       "    if (server_id !== undefined) {\n",
       "      // Clean up Bokeh references\n",
       "      var cmd = \"from bokeh.io.state import curstate; print(curstate().uuid_to_server['\" + server_id + \"'].get_sessions()[0].document.roots[0]._id)\";\n",
       "      cell.notebook.kernel.execute(cmd, {\n",
       "        iopub: {\n",
       "          output: function(msg) {\n",
       "            var id = msg.content.text.trim();\n",
       "            if (id in Bokeh.index) {\n",
       "              Bokeh.index[id].model.document.clear();\n",
       "              delete Bokeh.index[id];\n",
       "            }\n",
       "          }\n",
       "        }\n",
       "      });\n",
       "      // Destroy server and session\n",
       "      var cmd = \"import bokeh.io.notebook as ion; ion.destroy_server('\" + server_id + \"')\";\n",
       "      cell.notebook.kernel.execute(cmd);\n",
       "    }\n",
       "  }\n",
       "\n",
       "  /**\n",
       "   * Handle when a new output is added\n",
       "   */\n",
       "  function handleAddOutput(event, handle) {\n",
       "    var output_area = handle.output_area;\n",
       "    var output = handle.output;\n",
       "\n",
       "    // limit handleAddOutput to display_data with EXEC_MIME_TYPE content only\n",
       "    if ((output.output_type != \"display_data\") || (!output.data.hasOwnProperty(EXEC_MIME_TYPE))) {\n",
       "      return\n",
       "    }\n",
       "\n",
       "    var toinsert = output_area.element.find(\".\" + CLASS_NAME.split(' ')[0]);\n",
       "\n",
       "    if (output.metadata[EXEC_MIME_TYPE][\"id\"] !== undefined) {\n",
       "      toinsert[toinsert.length - 1].firstChild.textContent = output.data[JS_MIME_TYPE];\n",
       "      // store reference to embed id on output_area\n",
       "      output_area._bokeh_element_id = output.metadata[EXEC_MIME_TYPE][\"id\"];\n",
       "    }\n",
       "    if (output.metadata[EXEC_MIME_TYPE][\"server_id\"] !== undefined) {\n",
       "      var bk_div = document.createElement(\"div\");\n",
       "      bk_div.innerHTML = output.data[HTML_MIME_TYPE];\n",
       "      var script_attrs = bk_div.children[0].attributes;\n",
       "      for (var i = 0; i < script_attrs.length; i++) {\n",
       "        toinsert[toinsert.length - 1].firstChild.setAttribute(script_attrs[i].name, script_attrs[i].value);\n",
       "        toinsert[toinsert.length - 1].firstChild.textContent = bk_div.children[0].textContent\n",
       "      }\n",
       "      // store reference to server id on output_area\n",
       "      output_area._bokeh_server_id = output.metadata[EXEC_MIME_TYPE][\"server_id\"];\n",
       "    }\n",
       "  }\n",
       "\n",
       "  function register_renderer(events, OutputArea) {\n",
       "\n",
       "    function append_mime(data, metadata, element) {\n",
       "      // create a DOM node to render to\n",
       "      var toinsert = this.create_output_subarea(\n",
       "        metadata,\n",
       "        CLASS_NAME,\n",
       "        EXEC_MIME_TYPE\n",
       "      );\n",
       "      this.keyboard_manager.register_events(toinsert);\n",
       "      // Render to node\n",
       "      var props = {data: data, metadata: metadata[EXEC_MIME_TYPE]};\n",
       "      render(props, toinsert[toinsert.length - 1]);\n",
       "      element.append(toinsert);\n",
       "      return toinsert\n",
       "    }\n",
       "\n",
       "    /* Handle when an output is cleared or removed */\n",
       "    events.on('clear_output.CodeCell', handleClearOutput);\n",
       "    events.on('delete.Cell', handleClearOutput);\n",
       "\n",
       "    /* Handle when a new output is added */\n",
       "    events.on('output_added.OutputArea', handleAddOutput);\n",
       "\n",
       "    /**\n",
       "     * Register the mime type and append_mime function with output_area\n",
       "     */\n",
       "    OutputArea.prototype.register_mime_type(EXEC_MIME_TYPE, append_mime, {\n",
       "      /* Is output safe? */\n",
       "      safe: true,\n",
       "      /* Index of renderer in `output_area.display_order` */\n",
       "      index: 0\n",
       "    });\n",
       "  }\n",
       "\n",
       "  // register the mime type if in Jupyter Notebook environment and previously unregistered\n",
       "  if (root.Jupyter !== undefined) {\n",
       "    var events = require('base/js/events');\n",
       "    var OutputArea = require('notebook/js/outputarea').OutputArea;\n",
       "\n",
       "    if (OutputArea.prototype.mime_types().indexOf(EXEC_MIME_TYPE) == -1) {\n",
       "      register_renderer(events, OutputArea);\n",
       "    }\n",
       "  }\n",
       "\n",
       "  \n",
       "  if (typeof (root._bokeh_timeout) === \"undefined\" || force === true) {\n",
       "    root._bokeh_timeout = Date.now() + 5000;\n",
       "    root._bokeh_failed_load = false;\n",
       "  }\n",
       "\n",
       "  var NB_LOAD_WARNING = {'data': {'text/html':\n",
       "     \"<div style='background-color: #fdd'>\\n\"+\n",
       "     \"<p>\\n\"+\n",
       "     \"BokehJS does not appear to have successfully loaded. If loading BokehJS from CDN, this \\n\"+\n",
       "     \"may be due to a slow or bad network connection. Possible fixes:\\n\"+\n",
       "     \"</p>\\n\"+\n",
       "     \"<ul>\\n\"+\n",
       "     \"<li>re-rerun `output_notebook()` to attempt to load from CDN again, or</li>\\n\"+\n",
       "     \"<li>use INLINE resources instead, as so:</li>\\n\"+\n",
       "     \"</ul>\\n\"+\n",
       "     \"<code>\\n\"+\n",
       "     \"from bokeh.resources import INLINE\\n\"+\n",
       "     \"output_notebook(resources=INLINE)\\n\"+\n",
       "     \"</code>\\n\"+\n",
       "     \"</div>\"}};\n",
       "\n",
       "  function display_loaded() {\n",
       "    var el = document.getElementById(\"1001\");\n",
       "    if (el != null) {\n",
       "      el.textContent = \"BokehJS is loading...\";\n",
       "    }\n",
       "    if (root.Bokeh !== undefined) {\n",
       "      if (el != null) {\n",
       "        el.textContent = \"BokehJS \" + root.Bokeh.version + \" successfully loaded.\";\n",
       "      }\n",
       "    } else if (Date.now() < root._bokeh_timeout) {\n",
       "      setTimeout(display_loaded, 100)\n",
       "    }\n",
       "  }\n",
       "\n",
       "\n",
       "  function run_callbacks() {\n",
       "    try {\n",
       "      root._bokeh_onload_callbacks.forEach(function(callback) {\n",
       "        if (callback != null)\n",
       "          callback();\n",
       "      });\n",
       "    } finally {\n",
       "      delete root._bokeh_onload_callbacks\n",
       "    }\n",
       "    console.debug(\"Bokeh: all callbacks have finished\");\n",
       "  }\n",
       "\n",
       "  function load_libs(css_urls, js_urls, callback) {\n",
       "    if (css_urls == null) css_urls = [];\n",
       "    if (js_urls == null) js_urls = [];\n",
       "\n",
       "    root._bokeh_onload_callbacks.push(callback);\n",
       "    if (root._bokeh_is_loading > 0) {\n",
       "      console.debug(\"Bokeh: BokehJS is being loaded, scheduling callback at\", now());\n",
       "      return null;\n",
       "    }\n",
       "    if (js_urls == null || js_urls.length === 0) {\n",
       "      run_callbacks();\n",
       "      return null;\n",
       "    }\n",
       "    console.debug(\"Bokeh: BokehJS not loaded, scheduling load and callback at\", now());\n",
       "    root._bokeh_is_loading = css_urls.length + js_urls.length;\n",
       "\n",
       "    function on_load() {\n",
       "      root._bokeh_is_loading--;\n",
       "      if (root._bokeh_is_loading === 0) {\n",
       "        console.debug(\"Bokeh: all BokehJS libraries/stylesheets loaded\");\n",
       "        run_callbacks()\n",
       "      }\n",
       "    }\n",
       "\n",
       "    function on_error() {\n",
       "      console.error(\"failed to load \" + url);\n",
       "    }\n",
       "\n",
       "    for (var i = 0; i < css_urls.length; i++) {\n",
       "      var url = css_urls[i];\n",
       "      const element = document.createElement(\"link\");\n",
       "      element.onload = on_load;\n",
       "      element.onerror = on_error;\n",
       "      element.rel = \"stylesheet\";\n",
       "      element.type = \"text/css\";\n",
       "      element.href = url;\n",
       "      console.debug(\"Bokeh: injecting link tag for BokehJS stylesheet: \", url);\n",
       "      document.body.appendChild(element);\n",
       "    }\n",
       "\n",
       "    const hashes = {\"https://cdn.bokeh.org/bokeh/release/bokeh-2.1.1.min.js\": \"kLr4fYcqcSpbuI95brIH3vnnYCquzzSxHPU6XGQCIkQRGJwhg0StNbj1eegrHs12\", \"https://cdn.bokeh.org/bokeh/release/bokeh-widgets-2.1.1.min.js\": \"xIGPmVtaOm+z0BqfSOMn4lOR6ciex448GIKG4eE61LsAvmGj48XcMQZtKcE/UXZe\", \"https://cdn.bokeh.org/bokeh/release/bokeh-tables-2.1.1.min.js\": \"Dc9u1wF/0zApGIWoBbH77iWEHtdmkuYWG839Uzmv8y8yBLXebjO9ZnERsde5Ln/P\", \"https://cdn.bokeh.org/bokeh/release/bokeh-gl-2.1.1.min.js\": \"cT9JaBz7GiRXdENrJLZNSC6eMNF3nh3fa5fTF51Svp+ukxPdwcU5kGXGPBgDCa2j\"};\n",
       "\n",
       "    for (var i = 0; i < js_urls.length; i++) {\n",
       "      var url = js_urls[i];\n",
       "      var element = document.createElement('script');\n",
       "      element.onload = on_load;\n",
       "      element.onerror = on_error;\n",
       "      element.async = false;\n",
       "      element.src = url;\n",
       "      if (url in hashes) {\n",
       "        element.crossOrigin = \"anonymous\";\n",
       "        element.integrity = \"sha384-\" + hashes[url];\n",
       "      }\n",
       "      console.debug(\"Bokeh: injecting script tag for BokehJS library: \", url);\n",
       "      document.head.appendChild(element);\n",
       "    }\n",
       "  };\n",
       "\n",
       "  function inject_raw_css(css) {\n",
       "    const element = document.createElement(\"style\");\n",
       "    element.appendChild(document.createTextNode(css));\n",
       "    document.body.appendChild(element);\n",
       "  }\n",
       "\n",
       "  \n",
       "  var js_urls = [\"https://cdn.bokeh.org/bokeh/release/bokeh-2.1.1.min.js\", \"https://cdn.bokeh.org/bokeh/release/bokeh-widgets-2.1.1.min.js\", \"https://cdn.bokeh.org/bokeh/release/bokeh-tables-2.1.1.min.js\", \"https://cdn.bokeh.org/bokeh/release/bokeh-gl-2.1.1.min.js\"];\n",
       "  var css_urls = [];\n",
       "  \n",
       "\n",
       "  var inline_js = [\n",
       "    function(Bokeh) {\n",
       "      Bokeh.set_log_level(\"info\");\n",
       "    },\n",
       "    function(Bokeh) {\n",
       "    \n",
       "    \n",
       "    }\n",
       "  ];\n",
       "\n",
       "  function run_inline_js() {\n",
       "    \n",
       "    if (root.Bokeh !== undefined || force === true) {\n",
       "      \n",
       "    for (var i = 0; i < inline_js.length; i++) {\n",
       "      inline_js[i].call(root, root.Bokeh);\n",
       "    }\n",
       "    if (force === true) {\n",
       "        display_loaded();\n",
       "      }} else if (Date.now() < root._bokeh_timeout) {\n",
       "      setTimeout(run_inline_js, 100);\n",
       "    } else if (!root._bokeh_failed_load) {\n",
       "      console.log(\"Bokeh: BokehJS failed to load within specified timeout.\");\n",
       "      root._bokeh_failed_load = true;\n",
       "    } else if (force !== true) {\n",
       "      var cell = $(document.getElementById(\"1001\")).parents('.cell').data().cell;\n",
       "      cell.output_area.append_execute_result(NB_LOAD_WARNING)\n",
       "    }\n",
       "\n",
       "  }\n",
       "\n",
       "  if (root._bokeh_is_loading === 0) {\n",
       "    console.debug(\"Bokeh: BokehJS loaded, going straight to plotting\");\n",
       "    run_inline_js();\n",
       "  } else {\n",
       "    load_libs(css_urls, js_urls, function() {\n",
       "      console.debug(\"Bokeh: BokehJS plotting callback run at\", now());\n",
       "      run_inline_js();\n",
       "    });\n",
       "  }\n",
       "}(window));"
      ],
      "application/vnd.bokehjs_load.v0+json": "\n(function(root) {\n  function now() {\n    return new Date();\n  }\n\n  var force = true;\n\n  if (typeof root._bokeh_onload_callbacks === \"undefined\" || force === true) {\n    root._bokeh_onload_callbacks = [];\n    root._bokeh_is_loading = undefined;\n  }\n\n  \n\n  \n  if (typeof (root._bokeh_timeout) === \"undefined\" || force === true) {\n    root._bokeh_timeout = Date.now() + 5000;\n    root._bokeh_failed_load = false;\n  }\n\n  var NB_LOAD_WARNING = {'data': {'text/html':\n     \"<div style='background-color: #fdd'>\\n\"+\n     \"<p>\\n\"+\n     \"BokehJS does not appear to have successfully loaded. If loading BokehJS from CDN, this \\n\"+\n     \"may be due to a slow or bad network connection. Possible fixes:\\n\"+\n     \"</p>\\n\"+\n     \"<ul>\\n\"+\n     \"<li>re-rerun `output_notebook()` to attempt to load from CDN again, or</li>\\n\"+\n     \"<li>use INLINE resources instead, as so:</li>\\n\"+\n     \"</ul>\\n\"+\n     \"<code>\\n\"+\n     \"from bokeh.resources import INLINE\\n\"+\n     \"output_notebook(resources=INLINE)\\n\"+\n     \"</code>\\n\"+\n     \"</div>\"}};\n\n  function display_loaded() {\n    var el = document.getElementById(\"1001\");\n    if (el != null) {\n      el.textContent = \"BokehJS is loading...\";\n    }\n    if (root.Bokeh !== undefined) {\n      if (el != null) {\n        el.textContent = \"BokehJS \" + root.Bokeh.version + \" successfully loaded.\";\n      }\n    } else if (Date.now() < root._bokeh_timeout) {\n      setTimeout(display_loaded, 100)\n    }\n  }\n\n\n  function run_callbacks() {\n    try {\n      root._bokeh_onload_callbacks.forEach(function(callback) {\n        if (callback != null)\n          callback();\n      });\n    } finally {\n      delete root._bokeh_onload_callbacks\n    }\n    console.debug(\"Bokeh: all callbacks have finished\");\n  }\n\n  function load_libs(css_urls, js_urls, callback) {\n    if (css_urls == null) css_urls = [];\n    if (js_urls == null) js_urls = [];\n\n    root._bokeh_onload_callbacks.push(callback);\n    if (root._bokeh_is_loading > 0) {\n      console.debug(\"Bokeh: BokehJS is being loaded, scheduling callback at\", now());\n      return null;\n    }\n    if (js_urls == null || js_urls.length === 0) {\n      run_callbacks();\n      return null;\n    }\n    console.debug(\"Bokeh: BokehJS not loaded, scheduling load and callback at\", now());\n    root._bokeh_is_loading = css_urls.length + js_urls.length;\n\n    function on_load() {\n      root._bokeh_is_loading--;\n      if (root._bokeh_is_loading === 0) {\n        console.debug(\"Bokeh: all BokehJS libraries/stylesheets loaded\");\n        run_callbacks()\n      }\n    }\n\n    function on_error() {\n      console.error(\"failed to load \" + url);\n    }\n\n    for (var i = 0; i < css_urls.length; i++) {\n      var url = css_urls[i];\n      const element = document.createElement(\"link\");\n      element.onload = on_load;\n      element.onerror = on_error;\n      element.rel = \"stylesheet\";\n      element.type = \"text/css\";\n      element.href = url;\n      console.debug(\"Bokeh: injecting link tag for BokehJS stylesheet: \", url);\n      document.body.appendChild(element);\n    }\n\n    const hashes = {\"https://cdn.bokeh.org/bokeh/release/bokeh-2.1.1.min.js\": \"kLr4fYcqcSpbuI95brIH3vnnYCquzzSxHPU6XGQCIkQRGJwhg0StNbj1eegrHs12\", \"https://cdn.bokeh.org/bokeh/release/bokeh-widgets-2.1.1.min.js\": \"xIGPmVtaOm+z0BqfSOMn4lOR6ciex448GIKG4eE61LsAvmGj48XcMQZtKcE/UXZe\", \"https://cdn.bokeh.org/bokeh/release/bokeh-tables-2.1.1.min.js\": \"Dc9u1wF/0zApGIWoBbH77iWEHtdmkuYWG839Uzmv8y8yBLXebjO9ZnERsde5Ln/P\", \"https://cdn.bokeh.org/bokeh/release/bokeh-gl-2.1.1.min.js\": \"cT9JaBz7GiRXdENrJLZNSC6eMNF3nh3fa5fTF51Svp+ukxPdwcU5kGXGPBgDCa2j\"};\n\n    for (var i = 0; i < js_urls.length; i++) {\n      var url = js_urls[i];\n      var element = document.createElement('script');\n      element.onload = on_load;\n      element.onerror = on_error;\n      element.async = false;\n      element.src = url;\n      if (url in hashes) {\n        element.crossOrigin = \"anonymous\";\n        element.integrity = \"sha384-\" + hashes[url];\n      }\n      console.debug(\"Bokeh: injecting script tag for BokehJS library: \", url);\n      document.head.appendChild(element);\n    }\n  };\n\n  function inject_raw_css(css) {\n    const element = document.createElement(\"style\");\n    element.appendChild(document.createTextNode(css));\n    document.body.appendChild(element);\n  }\n\n  \n  var js_urls = [\"https://cdn.bokeh.org/bokeh/release/bokeh-2.1.1.min.js\", \"https://cdn.bokeh.org/bokeh/release/bokeh-widgets-2.1.1.min.js\", \"https://cdn.bokeh.org/bokeh/release/bokeh-tables-2.1.1.min.js\", \"https://cdn.bokeh.org/bokeh/release/bokeh-gl-2.1.1.min.js\"];\n  var css_urls = [];\n  \n\n  var inline_js = [\n    function(Bokeh) {\n      Bokeh.set_log_level(\"info\");\n    },\n    function(Bokeh) {\n    \n    \n    }\n  ];\n\n  function run_inline_js() {\n    \n    if (root.Bokeh !== undefined || force === true) {\n      \n    for (var i = 0; i < inline_js.length; i++) {\n      inline_js[i].call(root, root.Bokeh);\n    }\n    if (force === true) {\n        display_loaded();\n      }} else if (Date.now() < root._bokeh_timeout) {\n      setTimeout(run_inline_js, 100);\n    } else if (!root._bokeh_failed_load) {\n      console.log(\"Bokeh: BokehJS failed to load within specified timeout.\");\n      root._bokeh_failed_load = true;\n    } else if (force !== true) {\n      var cell = $(document.getElementById(\"1001\")).parents('.cell').data().cell;\n      cell.output_area.append_execute_result(NB_LOAD_WARNING)\n    }\n\n  }\n\n  if (root._bokeh_is_loading === 0) {\n    console.debug(\"Bokeh: BokehJS loaded, going straight to plotting\");\n    run_inline_js();\n  } else {\n    load_libs(css_urls, js_urls, function() {\n      console.debug(\"Bokeh: BokehJS plotting callback run at\", now());\n      run_inline_js();\n    });\n  }\n}(window));"
     },
     "metadata": {},
     "output_type": "display_data"
    }
   ],
   "source": [
    "import numpy as np\n",
    "import math\n",
    "\n",
    "from bokeh.plotting import figure, show\n",
    "from bokeh.io import output_notebook\n",
    "\n",
    "output_notebook()\n"
   ]
  },
  {
   "cell_type": "markdown",
   "metadata": {
    "slideshow": {
     "slide_type": "slide"
    }
   },
   "source": [
    "# ECHANTILLONNAGE"
   ]
  },
  {
   "cell_type": "markdown",
   "metadata": {
    "slideshow": {
     "slide_type": "slide"
    }
   },
   "source": [
    "## Bases de l'échantillonnage"
   ]
  },
  {
   "cell_type": "markdown",
   "metadata": {
    "slideshow": {
     "slide_type": "subslide"
    }
   },
   "source": [
    "### Signal Original\n",
    "\n",
    "> Courbe sin(x)  \n"
   ]
  },
  {
   "cell_type": "code",
   "execution_count": 3,
   "metadata": {
    "slideshow": {
     "slide_type": "-"
    }
   },
   "outputs": [
    {
     "data": {
      "text/html": [
       "\n",
       "\n",
       "\n",
       "\n",
       "\n",
       "\n",
       "  <div class=\"bk-root\" id=\"8225258d-9990-4229-b53e-422270e01d49\" data-root-id=\"1096\"></div>\n"
      ]
     },
     "metadata": {},
     "output_type": "display_data"
    },
    {
     "data": {
      "application/javascript": [
       "(function(root) {\n",
       "  function embed_document(root) {\n",
       "    \n",
       "  var docs_json = {\"485bea44-bc5f-4e56-9640-d2354ef4de91\":{\"roots\":{\"references\":[{\"attributes\":{\"below\":[{\"id\":\"1107\"}],\"center\":[{\"id\":\"1110\"},{\"id\":\"1114\"}],\"left\":[{\"id\":\"1111\"}],\"plot_height\":400,\"renderers\":[{\"id\":\"1132\"}],\"title\":{\"id\":\"1097\"},\"toolbar\":{\"id\":\"1122\"},\"toolbar_location\":\"above\",\"x_range\":{\"id\":\"1099\"},\"x_scale\":{\"id\":\"1103\"},\"y_range\":{\"id\":\"1101\"},\"y_scale\":{\"id\":\"1105\"}},\"id\":\"1096\",\"subtype\":\"Figure\",\"type\":\"Plot\"},{\"attributes\":{\"text\":\"sin(x)\"},\"id\":\"1097\",\"type\":\"Title\"},{\"attributes\":{\"data\":{\"x\":{\"__ndarray__\":\"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\",\"dtype\":\"float64\",\"order\":\"little\",\"shape\":[629]},\"y\":{\"__ndarray__\":\"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\",\"dtype\":\"float64\",\"order\":\"little\",\"shape\":[629]}},\"selected\":{\"id\":\"1147\"},\"selection_policy\":{\"id\":\"1148\"}},\"id\":\"1129\",\"type\":\"ColumnDataSource\"},{\"attributes\":{},\"id\":\"1099\",\"type\":\"DataRange1d\"},{\"attributes\":{},\"id\":\"1101\",\"type\":\"DataRange1d\"},{\"attributes\":{},\"id\":\"1103\",\"type\":\"LinearScale\"},{\"attributes\":{},\"id\":\"1108\",\"type\":\"BasicTicker\"},{\"attributes\":{},\"id\":\"1145\",\"type\":\"BasicTickFormatter\"},{\"attributes\":{},\"id\":\"1115\",\"type\":\"PanTool\"},{\"attributes\":{\"formatter\":{\"id\":\"1145\"},\"ticker\":{\"id\":\"1108\"}},\"id\":\"1107\",\"type\":\"LinearAxis\"},{\"attributes\":{},\"id\":\"1105\",\"type\":\"LinearScale\"},{\"attributes\":{\"axis\":{\"id\":\"1107\"},\"ticker\":null},\"id\":\"1110\",\"type\":\"Grid\"},{\"attributes\":{\"formatter\":{\"id\":\"1143\"},\"ticker\":{\"id\":\"1112\"}},\"id\":\"1111\",\"type\":\"LinearAxis\"},{\"attributes\":{\"data_source\":{\"id\":\"1129\"},\"glyph\":{\"id\":\"1130\"},\"hover_glyph\":null,\"muted_glyph\":null,\"nonselection_glyph\":{\"id\":\"1131\"},\"selection_glyph\":null,\"view\":{\"id\":\"1133\"}},\"id\":\"1132\",\"type\":\"GlyphRenderer\"},{\"attributes\":{},\"id\":\"1112\",\"type\":\"BasicTicker\"},{\"attributes\":{\"axis\":{\"id\":\"1111\"},\"dimension\":1,\"ticker\":null},\"id\":\"1114\",\"type\":\"Grid\"},{\"attributes\":{},\"id\":\"1116\",\"type\":\"WheelZoomTool\"},{\"attributes\":{\"active_drag\":\"auto\",\"active_inspect\":\"auto\",\"active_multi\":null,\"active_scroll\":\"auto\",\"active_tap\":\"auto\",\"tools\":[{\"id\":\"1115\"},{\"id\":\"1116\"},{\"id\":\"1117\"},{\"id\":\"1118\"},{\"id\":\"1119\"},{\"id\":\"1120\"}]},\"id\":\"1122\",\"type\":\"Toolbar\"},{\"attributes\":{},\"id\":\"1120\",\"type\":\"HelpTool\"},{\"attributes\":{\"overlay\":{\"id\":\"1121\"}},\"id\":\"1117\",\"type\":\"BoxZoomTool\"},{\"attributes\":{},\"id\":\"1118\",\"type\":\"SaveTool\"},{\"attributes\":{},\"id\":\"1119\",\"type\":\"ResetTool\"},{\"attributes\":{\"line_alpha\":0.1,\"line_color\":\"darkblue\",\"line_width\":2,\"x\":{\"field\":\"x\"},\"y\":{\"field\":\"y\"}},\"id\":\"1131\",\"type\":\"Line\"},{\"attributes\":{\"line_color\":\"darkblue\",\"line_width\":2,\"x\":{\"field\":\"x\"},\"y\":{\"field\":\"y\"}},\"id\":\"1130\",\"type\":\"Line\"},{\"attributes\":{\"source\":{\"id\":\"1129\"}},\"id\":\"1133\",\"type\":\"CDSView\"},{\"attributes\":{},\"id\":\"1147\",\"type\":\"Selection\"},{\"attributes\":{},\"id\":\"1148\",\"type\":\"UnionRenderers\"},{\"attributes\":{\"bottom_units\":\"screen\",\"fill_alpha\":0.5,\"fill_color\":\"lightgrey\",\"left_units\":\"screen\",\"level\":\"overlay\",\"line_alpha\":1.0,\"line_color\":\"black\",\"line_dash\":[4,4],\"line_width\":2,\"right_units\":\"screen\",\"top_units\":\"screen\"},\"id\":\"1121\",\"type\":\"BoxAnnotation\"},{\"attributes\":{},\"id\":\"1143\",\"type\":\"BasicTickFormatter\"}],\"root_ids\":[\"1096\"]},\"title\":\"Bokeh Application\",\"version\":\"2.1.1\"}};\n",
       "  var render_items = [{\"docid\":\"485bea44-bc5f-4e56-9640-d2354ef4de91\",\"root_ids\":[\"1096\"],\"roots\":{\"1096\":\"8225258d-9990-4229-b53e-422270e01d49\"}}];\n",
       "  root.Bokeh.embed.embed_items_notebook(docs_json, render_items);\n",
       "\n",
       "  }\n",
       "  if (root.Bokeh !== undefined) {\n",
       "    embed_document(root);\n",
       "  } else {\n",
       "    var attempts = 0;\n",
       "    var timer = setInterval(function(root) {\n",
       "      if (root.Bokeh !== undefined) {\n",
       "        clearInterval(timer);\n",
       "        embed_document(root);\n",
       "      } else {\n",
       "        attempts++;\n",
       "        if (attempts > 100) {\n",
       "          clearInterval(timer);\n",
       "          console.log(\"Bokeh: ERROR: Unable to run BokehJS code because BokehJS library is missing\");\n",
       "        }\n",
       "      }\n",
       "    }, 10, root)\n",
       "  }\n",
       "})(window);"
      ],
      "application/vnd.bokehjs_exec.v0+json": ""
     },
     "metadata": {
      "application/vnd.bokehjs_exec.v0+json": {
       "id": "1096"
      }
     },
     "output_type": "display_data"
    }
   ],
   "source": [
    "x = np.arange(0, 20*math.pi, 0.1)\n",
    "y = np.sin(x) \n",
    "p2 = figure(plot_width=600, plot_height=400, title=\"sin(x)\", toolbar_location=\"above\")\n",
    "p2.line(x, y, line_width=2, line_color='darkblue')\n",
    "show(p2)"
   ]
  },
  {
   "cell_type": "markdown",
   "metadata": {
    "slideshow": {
     "slide_type": "subslide"
    }
   },
   "source": [
    "### Signal échantillonné\n",
    "\n",
    "> échantillonage trop faible (risque d'aliasing: création d'un faux signal) \n"
   ]
  },
  {
   "cell_type": "code",
   "execution_count": 5,
   "metadata": {
    "slideshow": {
     "slide_type": "-"
    }
   },
   "outputs": [
    {
     "data": {
      "text/html": [
       "\n",
       "\n",
       "\n",
       "\n",
       "\n",
       "\n",
       "  <div class=\"bk-root\" id=\"cf0cb1e0-0d06-48f0-85e9-2883afc65d29\" data-root-id=\"1327\"></div>\n"
      ]
     },
     "metadata": {},
     "output_type": "display_data"
    },
    {
     "data": {
      "application/javascript": [
       "(function(root) {\n",
       "  function embed_document(root) {\n",
       "    \n",
       "  var docs_json = {\"58ee8210-cfd3-4332-8acc-5fd413a8b83d\":{\"roots\":{\"references\":[{\"attributes\":{\"below\":[{\"id\":\"1338\"}],\"center\":[{\"id\":\"1341\"},{\"id\":\"1345\"}],\"left\":[{\"id\":\"1342\"}],\"plot_height\":400,\"renderers\":[{\"id\":\"1363\"},{\"id\":\"1368\"}],\"title\":{\"id\":\"1328\"},\"toolbar\":{\"id\":\"1353\"},\"toolbar_location\":\"above\",\"x_range\":{\"id\":\"1330\"},\"x_scale\":{\"id\":\"1334\"},\"y_range\":{\"id\":\"1332\"},\"y_scale\":{\"id\":\"1336\"}},\"id\":\"1327\",\"subtype\":\"Figure\",\"type\":\"Plot\"},{\"attributes\":{},\"id\":\"1339\",\"type\":\"BasicTicker\"},{\"attributes\":{},\"id\":\"1330\",\"type\":\"DataRange1d\"},{\"attributes\":{\"formatter\":{\"id\":\"1399\"},\"ticker\":{\"id\":\"1339\"}},\"id\":\"1338\",\"type\":\"LinearAxis\"},{\"attributes\":{},\"id\":\"1336\",\"type\":\"LinearScale\"},{\"attributes\":{},\"id\":\"1332\",\"type\":\"DataRange1d\"},{\"attributes\":{},\"id\":\"1334\",\"type\":\"LinearScale\"},{\"attributes\":{\"formatter\":{\"id\":\"1397\"},\"ticker\":{\"id\":\"1343\"}},\"id\":\"1342\",\"type\":\"LinearAxis\"},{\"attributes\":{},\"id\":\"1346\",\"type\":\"PanTool\"},{\"attributes\":{\"active_drag\":\"auto\",\"active_inspect\":\"auto\",\"active_multi\":null,\"active_scroll\":\"auto\",\"active_tap\":\"auto\",\"tools\":[{\"id\":\"1346\"},{\"id\":\"1347\"},{\"id\":\"1348\"},{\"id\":\"1349\"},{\"id\":\"1350\"},{\"id\":\"1351\"}]},\"id\":\"1353\",\"type\":\"Toolbar\"},{\"attributes\":{\"axis\":{\"id\":\"1338\"},\"ticker\":null},\"id\":\"1341\",\"type\":\"Grid\"},{\"attributes\":{\"line_alpha\":0.1,\"line_dash\":[6],\"line_width\":2,\"x\":{\"field\":\"x\"},\"y\":{\"field\":\"y\"}},\"id\":\"1362\",\"type\":\"Line\"},{\"attributes\":{},\"id\":\"1343\",\"type\":\"BasicTicker\"},{\"attributes\":{\"data\":{\"x\":{\"__ndarray__\":\"AAAAAAAAAACamZmZmZm5P5qZmZmZmck/NDMzMzMz0z+amZmZmZnZPwAAAAAAAOA/NDMzMzMz4z9nZmZmZmbmP5qZmZmZmek/zczMzMzM7D8AAAAAAADwP5qZmZmZmfE/NDMzMzMz8z/NzMzMzMz0P2dmZmZmZvY/AAAAAAAA+D+amZmZmZn5PzQzMzMzM/s/zczMzMzM/D9nZmZmZmb+PwAAAAAAAABAzczMzMzMAECamZmZmZkBQGdmZmZmZgJANDMzMzMzA0AAAAAAAAAEQM3MzMzMzARAmpmZmZmZBUBnZmZmZmYGQDQzMzMzMwdAAAAAAAAACEDNzMzMzMwIQJqZmZmZmQlAZ2ZmZmZmCkA0MzMzMzMLQAAAAAAAAAxAzczMzMzMDECamZmZmZkNQGdmZmZmZg5ANDMzMzMzD0AAAAAAAAAQQGdmZmZmZhBAzczMzMzMEEAzMzMzMzMRQJqZmZmZmRFAAAAAAAAAEkBnZmZmZmYSQM3MzMzMzBJANDMzMzMzE0CamZmZmZkTQAAAAAAAABRAZ2ZmZmZmFEDNzMzMzMwUQDQzMzMzMxVAmpmZmZmZFUAAAAAAAAAWQGdmZmZmZhZAzczMzMzMFkA0MzMzMzMXQJqZmZmZmRdAAAAAAAAAGEBnZmZmZmYYQM3MzMzMzBhANDMzMzMzGUCamZmZmZkZQAAAAAAAABpAZ2ZmZmZmGkDNzMzMzMwaQDQzMzMzMxtAmpmZmZmZG0AAAAAAAAAcQGdmZmZmZhxAzczMzMzMHEA0MzMzMzMdQJqZmZmZmR1AAAAAAAAAHkBnZmZmZmYeQM3MzMzMzB5ANDMzMzMzH0CamZmZmZkfQAAAAAAAACBAMzMzMzMzIEBnZmZmZmYgQJqZmZmZmSBAzczMzMzMIEAAAAAAAAAhQDMzMzMzMyFAZ2ZmZmZmIUCamZmZmZkhQM3MzMzMzCFAAAAAAAAAIkAzMzMzMzMiQGdmZmZmZiJAmpmZmZmZIkDNzMzMzMwiQAAAAAAAACNANDMzMzMzI0BnZmZmZmYjQJqZmZmZmSNAzczMzMzMI0AAAAAAAAAkQDQzMzMzMyRAZ2ZmZmZmJECamZmZmZkkQM3MzMzMzCRAAAAAAAAAJUA0MzMzMzMlQGdmZmZmZiVAmpmZmZmZJUDNzMzMzMwlQAAAAAAAACZANDMzMzMzJkBnZmZmZmYmQJqZmZmZmSZAzczMzMzMJkAAAAAAAAAnQDQzMzMzMydAZ2ZmZmZmJ0CamZmZmZknQM3MzMzMzCdAAAAAAAAAKEA0MzMzMzMoQGdmZmZmZihAmpmZmZmZKEDNzMzMzMwoQAAAAAAAAClANDMzMzMzKUBnZmZmZmYpQJqZmZmZmSlAzczMzMzMKUAAAAAAAAAqQDQzMzMzMypAZ2ZmZmZmKkCamZmZmZkqQM3MzMzMzCpAAAAAAAAAK0A0MzMzMzMrQGdmZmZmZitAmpmZmZmZK0DNzMzMzMwrQAAAAAAAACxANDMzMzMzLEBnZmZmZmYsQJqZmZmZmSxAzczMzMzMLEAAAAAAAAAtQDQzMzMzMy1AZ2ZmZmZmLUCamZmZmZktQM3MzMzMzC1AAAAAAAAALkA0MzMzMzMuQGdmZmZmZi5AmpmZmZmZLkDNzMzMzMwuQAAAAAAAAC9ANDMzMzMzL0BnZmZmZmYvQJqZmZmZmS9AzczMzMzML0AAAAAAAAAwQJqZmZmZGTBAMzMzMzMzMEDNzMzMzEwwQGdmZmZmZjBAAAAAAACAMECamZmZmZkwQDMzMzMzszBAzczMzMzMMEBnZmZmZuYwQAAAAAAAADFAmpmZmZkZMUAzMzMzMzMxQM3MzMzMTDFAZ2ZmZmZmMUAAAAAAAIAxQJqZmZmZmTFAMzMzMzOzMUDNzMzMzMwxQGdmZmZm5jFAAAAAAAAAMkCamZmZmRkyQDMzMzMzMzJAzczMzMxMMkBnZmZmZmYyQAAAAAAAgDJAmpmZmZmZMkAzMzMzM7MyQM3MzMzMzDJAZ2ZmZmbmMkAAAAAAAAAzQJqZmZmZGTNANDMzMzMzM0DNzMzMzEwzQGdmZmZmZjNAAAAAAACAM0CamZmZmZkzQDQzMzMzszNAzczMzMzMM0BnZmZmZuYzQAAAAAAAADRAmpmZmZkZNEA0MzMzMzM0QM3MzMzMTDRAZ2ZmZmZmNEAAAAAAAIA0QJqZmZmZmTRANDMzMzOzNEDNzMzMzMw0QGdmZmZm5jRAAAAAAAAANUCamZmZmRk1QDQzMzMzMzVAzczMzMxMNUBnZmZmZmY1QAAAAAAAgDVAmpmZmZmZNUA0MzMzM7M1QM3MzMzMzDVAZ2ZmZmbmNUAAAAAAAAA2QJqZmZmZGTZANDMzMzMzNkDNzMzMzEw2QGdmZmZmZjZAAAAAAACANkCamZmZmZk2QDQzMzMzszZAzczMzMzMNkBnZmZmZuY2QAAAAAAAADdAmpmZmZkZN0A0MzMzMzM3QM3MzMzMTDdAZ2ZmZmZmN0AAAAAAAIA3QJqZmZmZmTdANDMzMzOzN0DNzMzMzMw3QGdmZmZm5jdAAAAAAAAAOECamZmZmRk4QDQzMzMzMzhAzczMzMxMOEBnZmZmZmY4QAAAAAAAgDhAmpmZmZmZOEA0MzMzM7M4QM3MzMzMzDhAZ2ZmZmbmOEAAAAAAAAA5QJqZmZmZGTlANDMzMzMzOUDNzMzMzEw5QGdmZmZmZjlAAAAAAACAOUCamZmZmZk5QDQzMzMzszlAzczMzMzMOUBnZmZmZuY5QAAAAAAAADpAmpmZmZkZOkA0MzMzMzM6QM3MzMzMTDpAZ2ZmZmZmOkAAAAAAAIA6QJqZmZmZmTpANDMzMzOzOkDNzMzMzMw6QGdmZmZm5jpAAAAAAAAAO0CamZmZmRk7QDQzMzMzMztAzczMzMxMO0BnZmZmZmY7QAAAAAAAgDtAmpmZmZmZO0A0MzMzM7M7QM3MzMzMzDtAZ2ZmZmbmO0AAAAAAAAA8QJqZmZmZGTxANDMzMzMzPEDNzMzMzEw8QGdmZmZmZjxAAAAAAACAPECamZmZmZk8QDQzMzMzszxAzczMzMzMPEBnZmZmZuY8QAAAAAAAAD1AmpmZmZkZPUA0MzMzMzM9QM3MzMzMTD1AZ2ZmZmZmPUAAAAAAAIA9QJqZmZmZmT1ANDMzMzOzPUDNzMzMzMw9QGdmZmZm5j1AAAAAAAAAPkCamZmZmRk+QDQzMzMzMz5AzczMzMxMPkBnZmZmZmY+QAAAAAAAgD5AmpmZmZmZPkA0MzMzM7M+QM3MzMzMzD5AZ2ZmZmbmPkAAAAAAAAA/QJqZmZmZGT9ANDMzMzMzP0DNzMzMzEw/QGdmZmZmZj9AAAAAAACAP0CamZmZmZk/QDQzMzMzsz9AzczMzMzMP0BnZmZmZuY/QAAAAAAAAEBAzczMzMwMQECamZmZmRlAQGdmZmZmJkBAMzMzMzMzQEAAAAAAAEBAQM3MzMzMTEBAmpmZmZlZQEBnZmZmZmZAQDMzMzMzc0BAAAAAAACAQEDNzMzMzIxAQJqZmZmZmUBAZ2ZmZmamQEAzMzMzM7NAQAAAAAAAwEBAzczMzMzMQECamZmZmdlAQGdmZmZm5kBAMzMzMzPzQEAAAAAAAABBQM3MzMzMDEFAmpmZmZkZQUBnZmZmZiZBQDMzMzMzM0FAAAAAAABAQUDNzMzMzExBQJqZmZmZWUFAZ2ZmZmZmQUAzMzMzM3NBQAAAAAAAgEFAzczMzMyMQUCamZmZmZlBQGdmZmZmpkFAMzMzMzOzQUAAAAAAAMBBQM3MzMzMzEFAmpmZmZnZQUBnZmZmZuZBQDMzMzMz80FAAAAAAAAAQkDNzMzMzAxCQJqZmZmZGUJAZ2ZmZmYmQkAzMzMzMzNCQAAAAAAAQEJAzczMzMxMQkCamZmZmVlCQGdmZmZmZkJAMzMzMzNzQkAAAAAAAIBCQM3MzMzMjEJAmpmZmZmZQkBnZmZmZqZCQDMzMzMzs0JAAAAAAADAQkDNzMzMzMxCQJqZmZmZ2UJAZ2ZmZmbmQkAzMzMzM/NCQAAAAAAAAENAzczMzMwMQ0CamZmZmRlDQGdmZmZmJkNANDMzMzMzQ0AAAAAAAEBDQM3MzMzMTENAmpmZmZlZQ0BnZmZmZmZDQDQzMzMzc0NAAAAAAACAQ0DNzMzMzIxDQJqZmZmZmUNAZ2ZmZmamQ0A0MzMzM7NDQAAAAAAAwENAzczMzMzMQ0CamZmZmdlDQGdmZmZm5kNANDMzMzPzQ0AAAAAAAABEQM3MzMzMDERAmpmZmZkZREBnZmZmZiZEQDQzMzMzM0RAAAAAAABAREDNzMzMzExEQJqZmZmZWURAZ2ZmZmZmREA0MzMzM3NEQAAAAAAAgERAzczMzMyMRECamZmZmZlEQGdmZmZmpkRANDMzMzOzREAAAAAAAMBEQM3MzMzMzERAmpmZmZnZREBnZmZmZuZEQDQzMzMz80RAAAAAAAAARUDNzMzMzAxFQJqZmZmZGUVAZ2ZmZmYmRUA0MzMzMzNFQAAAAAAAQEVAzczMzMxMRUCamZmZmVlFQGdmZmZmZkVANDMzMzNzRUAAAAAAAIBFQM3MzMzMjEVAmpmZmZmZRUBnZmZmZqZFQDQzMzMzs0VAAAAAAADARUDNzMzMzMxFQJqZmZmZ2UVAZ2ZmZmbmRUA0MzMzM/NFQAAAAAAAAEZAzczMzMwMRkCamZmZmRlGQGdmZmZmJkZANDMzMzMzRkAAAAAAAEBGQM3MzMzMTEZAmpmZmZlZRkBnZmZmZmZGQDQzMzMzc0ZAAAAAAACARkDNzMzMzIxGQJqZmZmZmUZAZ2ZmZmamRkA0MzMzM7NGQAAAAAAAwEZAzczMzMzMRkCamZmZmdlGQGdmZmZm5kZANDMzMzPzRkAAAAAAAABHQM3MzMzMDEdAmpmZmZkZR0BnZmZmZiZHQDQzMzMzM0dAAAAAAABAR0DNzMzMzExHQJqZmZmZWUdAZ2ZmZmZmR0A0MzMzM3NHQAAAAAAAgEdAzczMzMyMR0CamZmZmZlHQGdmZmZmpkdANDMzMzOzR0AAAAAAAMBHQM3MzMzMzEdAmpmZmZnZR0BnZmZmZuZHQDQzMzMz80dAAAAAAAAASEDNzMzMzAxIQJqZmZmZGUhAZ2ZmZmYmSEA0MzMzMzNIQAAAAAAAQEhAzczMzMxMSECamZmZmVlIQGdmZmZmZkhANDMzMzNzSEAAAAAAAIBIQM3MzMzMjEhAmpmZmZmZSEBnZmZmZqZIQDQzMzMzs0hAAAAAAADASEDNzMzMzMxIQJqZmZmZ2UhAZ2ZmZmbmSEA0MzMzM/NIQAAAAAAAAElAzczMzMwMSUCamZmZmRlJQGdmZmZmJklANDMzMzMzSUAAAAAAAEBJQM3MzMzMTElAmpmZmZlZSUBnZmZmZmZJQDQzMzMzc0lAAAAAAACASUDNzMzMzIxJQJqZmZmZmUlAZ2ZmZmamSUA0MzMzM7NJQAAAAAAAwElAzczMzMzMSUCamZmZmdlJQGdmZmZm5klANDMzMzPzSUAAAAAAAABKQM3MzMzMDEpAmpmZmZkZSkBnZmZmZiZKQDQzMzMzM0pAAAAAAABASkDNzMzMzExKQJqZmZmZWUpAZ2ZmZmZmSkA0MzMzM3NKQAAAAAAAgEpAzczMzMyMSkCamZmZmZlKQGdmZmZmpkpANDMzMzOzSkAAAAAAAMBKQM3MzMzMzEpAmpmZmZnZSkBnZmZmZuZKQDQzMzMz80pAAAAAAAAAS0DNzMzMzAxLQJqZmZmZGUtAZ2ZmZmYmS0A0MzMzMzNLQAAAAAAAQEtAzczMzMxMS0CamZmZmVlLQGdmZmZmZktANDMzMzNzS0AAAAAAAIBLQM3MzMzMjEtAmpmZmZmZS0BnZmZmZqZLQDQzMzMzs0tAAAAAAADAS0DNzMzMzMxLQJqZmZmZ2UtAZ2ZmZmbmS0A0MzMzM/NLQAAAAAAAAExAzczMzMwMTECamZmZmRlMQGdmZmZmJkxANDMzMzMzTEAAAAAAAEBMQM3MzMzMTExAmpmZmZlZTEBnZmZmZmZMQDQzMzMzc0xAAAAAAACATEDNzMzMzIxMQJqZmZmZmUxAZ2ZmZmamTEA0MzMzM7NMQAAAAAAAwExAzczMzMzMTECamZmZmdlMQGdmZmZm5kxANDMzMzPzTEAAAAAAAABNQM3MzMzMDE1AmpmZmZkZTUBnZmZmZiZNQDQzMzMzM01AAAAAAABATUDNzMzMzExNQJqZmZmZWU1AZ2ZmZmZmTUA0MzMzM3NNQAAAAAAAgE1AzczMzMyMTUCamZmZmZlNQGdmZmZmpk1ANDMzMzOzTUAAAAAAAMBNQM3MzMzMzE1AmpmZmZnZTUBnZmZmZuZNQDQzMzMz801AAAAAAAAATkDNzMzMzAxOQJqZmZmZGU5AZ2ZmZmYmTkA0MzMzMzNOQAAAAAAAQE5AzczMzMxMTkCamZmZmVlOQGdmZmZmZk5ANDMzMzNzTkAAAAAAAIBOQM3MzMzMjE5AmpmZmZmZTkBnZmZmZqZOQDQzMzMzs05AAAAAAADATkDNzMzMzMxOQJqZmZmZ2U5AZ2ZmZmbmTkA0MzMzM/NOQAAAAAAAAE9AzczMzMwMT0CamZmZmRlPQGdmZmZmJk9ANDMzMzMzT0AAAAAAAEBPQM3MzMzMTE9AmpmZmZlZT0BnZmZmZmZPQA==\",\"dtype\":\"float64\",\"order\":\"little\",\"shape\":[629]},\"y\":{\"__ndarray__\":\"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\",\"dtype\":\"float64\",\"order\":\"little\",\"shape\":[629]}},\"selected\":{\"id\":\"1401\"},\"selection_policy\":{\"id\":\"1402\"}},\"id\":\"1360\",\"type\":\"ColumnDataSource\"},{\"attributes\":{\"axis\":{\"id\":\"1342\"},\"dimension\":1,\"ticker\":null},\"id\":\"1345\",\"type\":\"Grid\"},{\"attributes\":{\"source\":{\"id\":\"1360\"}},\"id\":\"1364\",\"type\":\"CDSView\"},{\"attributes\":{},\"id\":\"1347\",\"type\":\"WheelZoomTool\"},{\"attributes\":{\"data_source\":{\"id\":\"1360\"},\"glyph\":{\"id\":\"1361\"},\"hover_glyph\":null,\"muted_glyph\":null,\"nonselection_glyph\":{\"id\":\"1362\"},\"selection_glyph\":null,\"view\":{\"id\":\"1364\"}},\"id\":\"1363\",\"type\":\"GlyphRenderer\"},{\"attributes\":{\"overlay\":{\"id\":\"1352\"}},\"id\":\"1348\",\"type\":\"BoxZoomTool\"},{\"attributes\":{\"line_dash\":[6],\"line_width\":2,\"x\":{\"field\":\"x\"},\"y\":{\"field\":\"y\"}},\"id\":\"1361\",\"type\":\"Line\"},{\"attributes\":{},\"id\":\"1351\",\"type\":\"HelpTool\"},{\"attributes\":{},\"id\":\"1350\",\"type\":\"ResetTool\"},{\"attributes\":{},\"id\":\"1349\",\"type\":\"SaveTool\"},{\"attributes\":{},\"id\":\"1401\",\"type\":\"Selection\"},{\"attributes\":{},\"id\":\"1397\",\"type\":\"BasicTickFormatter\"},{\"attributes\":{\"data_source\":{\"id\":\"1365\"},\"glyph\":{\"id\":\"1366\"},\"hover_glyph\":null,\"muted_glyph\":null,\"nonselection_glyph\":{\"id\":\"1367\"},\"selection_glyph\":null,\"view\":{\"id\":\"1369\"}},\"id\":\"1368\",\"type\":\"GlyphRenderer\"},{\"attributes\":{},\"id\":\"1402\",\"type\":\"UnionRenderers\"},{\"attributes\":{\"text\":\"Echantillonnage\"},\"id\":\"1328\",\"type\":\"Title\"},{\"attributes\":{\"source\":{\"id\":\"1365\"}},\"id\":\"1369\",\"type\":\"CDSView\"},{\"attributes\":{\"line_alpha\":0.1,\"line_color\":\"firebrick\",\"line_width\":2,\"x\":{\"field\":\"x\"},\"y\":{\"field\":\"y\"}},\"id\":\"1367\",\"type\":\"Line\"},{\"attributes\":{\"line_color\":\"firebrick\",\"line_width\":2,\"x\":{\"field\":\"x\"},\"y\":{\"field\":\"y\"}},\"id\":\"1366\",\"type\":\"Line\"},{\"attributes\":{},\"id\":\"1403\",\"type\":\"Selection\"},{\"attributes\":{\"bottom_units\":\"screen\",\"fill_alpha\":0.5,\"fill_color\":\"lightgrey\",\"left_units\":\"screen\",\"level\":\"overlay\",\"line_alpha\":1.0,\"line_color\":\"black\",\"line_dash\":[4,4],\"line_width\":2,\"right_units\":\"screen\",\"top_units\":\"screen\"},\"id\":\"1352\",\"type\":\"BoxAnnotation\"},{\"attributes\":{},\"id\":\"1404\",\"type\":\"UnionRenderers\"},{\"attributes\":{\"data\":{\"x\":{\"__ndarray__\":\"AAAAAAAAAAD8jnBllZ4WQPyOcGWVniZAPWsUDPD2MED8jnBllZ42QLuyzL46RjxAPWsUDPD2QEAcfcK4wspDQPyOcGWVnkZA3KAeEmhySUC7ssy+OkZMQJrEemsNGk9A\",\"dtype\":\"float64\",\"order\":\"little\",\"shape\":[12]},\"y\":{\"__ndarray__\":\"AAAAAAAAAABgWnUEI8/ivwFVRBMOb+6//lREEw5v7r9YWnUEI8/iv4jndvnq2tM8aFp1BCPP4j8OVUQTDm/uP/pURBMOb+4/aVp1BCPP4j+I53b56trjvIpadQQjz+K/\",\"dtype\":\"float64\",\"order\":\"little\",\"shape\":[12]}},\"selected\":{\"id\":\"1403\"},\"selection_policy\":{\"id\":\"1404\"}},\"id\":\"1365\",\"type\":\"ColumnDataSource\"},{\"attributes\":{},\"id\":\"1399\",\"type\":\"BasicTickFormatter\"}],\"root_ids\":[\"1327\"]},\"title\":\"Bokeh Application\",\"version\":\"2.1.1\"}};\n",
       "  var render_items = [{\"docid\":\"58ee8210-cfd3-4332-8acc-5fd413a8b83d\",\"root_ids\":[\"1327\"],\"roots\":{\"1327\":\"cf0cb1e0-0d06-48f0-85e9-2883afc65d29\"}}];\n",
       "  root.Bokeh.embed.embed_items_notebook(docs_json, render_items);\n",
       "\n",
       "  }\n",
       "  if (root.Bokeh !== undefined) {\n",
       "    embed_document(root);\n",
       "  } else {\n",
       "    var attempts = 0;\n",
       "    var timer = setInterval(function(root) {\n",
       "      if (root.Bokeh !== undefined) {\n",
       "        clearInterval(timer);\n",
       "        embed_document(root);\n",
       "      } else {\n",
       "        attempts++;\n",
       "        if (attempts > 100) {\n",
       "          clearInterval(timer);\n",
       "          console.log(\"Bokeh: ERROR: Unable to run BokehJS code because BokehJS library is missing\");\n",
       "        }\n",
       "      }\n",
       "    }, 10, root)\n",
       "  }\n",
       "})(window);"
      ],
      "application/vnd.bokehjs_exec.v0+json": ""
     },
     "metadata": {
      "application/vnd.bokehjs_exec.v0+json": {
       "id": "1327"
      }
     },
     "output_type": "display_data"
    }
   ],
   "source": [
    "x = np.arange(0, 20*math.pi, 0.1)\n",
    "y = np.sin(x)\n",
    "x1 = np.arange(0, 20*math.pi, 1.8 * math.pi)\n",
    "y1 = np.sin(x1)\n",
    "p2 = figure(plot_width=600, plot_height=400, title=\"Echantillonnage\", toolbar_location=\"above\")\n",
    "p2.line(x, y, line_width=2, line_color='black', line_dash = 'dashed')\n",
    "p2.line(x1, y1, line_width=2, line_color='firebrick')\n",
    "show(p2)"
   ]
  },
  {
   "cell_type": "markdown",
   "metadata": {
    "slideshow": {
     "slide_type": "subslide"
    }
   },
   "source": [
    "### Signal échantillonné\n",
    "\n",
    "> Théorême de Nyquist/Shannon: La fréquence d'échantillonnage d'un signal doit être au moins deux fois supérieure à la fréquence maximale présente du signal."
   ]
  },
  {
   "cell_type": "code",
   "execution_count": 6,
   "metadata": {
    "slideshow": {
     "slide_type": "-"
    }
   },
   "outputs": [
    {
     "data": {
      "text/html": [
       "\n",
       "\n",
       "\n",
       "\n",
       "\n",
       "\n",
       "  <div class=\"bk-root\" id=\"15e54c74-e8af-42f2-a516-7c8420cae39d\" data-root-id=\"1466\"></div>\n"
      ]
     },
     "metadata": {},
     "output_type": "display_data"
    },
    {
     "data": {
      "application/javascript": [
       "(function(root) {\n",
       "  function embed_document(root) {\n",
       "    \n",
       "  var docs_json = {\"d9d4c349-53f7-4639-8aed-5ab3360a4d75\":{\"roots\":{\"references\":[{\"attributes\":{\"below\":[{\"id\":\"1477\"}],\"center\":[{\"id\":\"1480\"},{\"id\":\"1484\"}],\"left\":[{\"id\":\"1481\"}],\"plot_height\":400,\"renderers\":[{\"id\":\"1502\"},{\"id\":\"1507\"}],\"title\":{\"id\":\"1467\"},\"toolbar\":{\"id\":\"1492\"},\"toolbar_location\":\"above\",\"x_range\":{\"id\":\"1469\"},\"x_scale\":{\"id\":\"1473\"},\"y_range\":{\"id\":\"1471\"},\"y_scale\":{\"id\":\"1475\"}},\"id\":\"1466\",\"subtype\":\"Figure\",\"type\":\"Plot\"},{\"attributes\":{},\"id\":\"1546\",\"type\":\"BasicTickFormatter\"},{\"attributes\":{\"source\":{\"id\":\"1504\"}},\"id\":\"1508\",\"type\":\"CDSView\"},{\"attributes\":{},\"id\":\"1551\",\"type\":\"UnionRenderers\"},{\"attributes\":{\"line_alpha\":0.1,\"line_color\":\"firebrick\",\"line_width\":2,\"x\":{\"field\":\"x\"},\"y\":{\"field\":\"y\"}},\"id\":\"1506\",\"type\":\"Line\"},{\"attributes\":{},\"id\":\"1552\",\"type\":\"Selection\"},{\"attributes\":{},\"id\":\"1548\",\"type\":\"BasicTickFormatter\"},{\"attributes\":{},\"id\":\"1553\",\"type\":\"UnionRenderers\"},{\"attributes\":{},\"id\":\"1469\",\"type\":\"DataRange1d\"},{\"attributes\":{\"bottom_units\":\"screen\",\"fill_alpha\":0.5,\"fill_color\":\"lightgrey\",\"left_units\":\"screen\",\"level\":\"overlay\",\"line_alpha\":1.0,\"line_color\":\"black\",\"line_dash\":[4,4],\"line_width\":2,\"right_units\":\"screen\",\"top_units\":\"screen\"},\"id\":\"1491\",\"type\":\"BoxAnnotation\"},{\"attributes\":{\"data\":{\"x\":{\"__ndarray__\":\"AAAAAAAAAAAYLURU+yH5PxgtRFT7IQlA0iEzf3zZEkAYLURU+yEZQF44VSl6ah9A0iEzf3zZIkB1p7vpu/0lQBgtRFT7ISlAu7LMvjpGLEBeOFUpemovQADf7slcRzFA0iEzf3zZMkCkZHc0nGs0QHWnu+m7/TVARur/ntuPN0AYLURU+yE5QOpviAkbtDpAu7LMvjpGPECM9RB0Wtg9QF44VSl6aj9AmL1M70x+QEAA3+7JXEdBQGkAkaRsEEJA0iEzf3zZQkA7Q9VZjKJDQKRkdzSca0RADIYZD6w0RUB1p7vpu/1FQN7IXcTLxkZARur/ntuPR0CvC6J561hIQBgtRFT7IUlAgU7mLgvrSUDqb4gJG7RKQFKRKuQqfUtAu7LMvjpGTEAk1G6ZSg9NQIz1EHRa2E1A9RazTmqhTkA=\",\"dtype\":\"float64\",\"order\":\"little\",\"shape\":[40]},\"y\":{\"__ndarray__\":\"AAAAAAAAAAAAAAAAAADwPwdcFDMmpqE8AAAAAAAA8L8HXBQzJqaxvAAAAAAAAPA/CoqeTDl5ujwAAAAAAADwvwdcFDMmpsG8AAAAAAAA8D8Jc9m/rw/GPAAAAAAAAPC/CoqeTDl5yrwAAAAAAADwPwyhY9nC4s48AAAAAAAA8L8HXBQzJqbRvAAAAAAAAPA/iOd2+era0zwAAAAAAADwvwlz2b+vD9a8AAAAAAAA8D+i/44hHRH2PAAAAAAAAPC/CoqeTDl52rwAAAAAAADwPzp1f/YAqeG8AAAAAAAA8L8MoWPZwuLevAAAAAAAAPA/I4vx5+FF+DwAAAAAAADwvwdcFDMmpuG8AAAAAAAA8D9xvHTT7n7avAAAAAAAAPC/iOd2+era47wAAAAAAADwP6QWVK6mevo8AAAAAAAA8L8=\",\"dtype\":\"float64\",\"order\":\"little\",\"shape\":[40]}},\"selected\":{\"id\":\"1552\"},\"selection_policy\":{\"id\":\"1553\"}},\"id\":\"1504\",\"type\":\"ColumnDataSource\"},{\"attributes\":{\"line_color\":\"firebrick\",\"line_width\":2,\"x\":{\"field\":\"x\"},\"y\":{\"field\":\"y\"}},\"id\":\"1505\",\"type\":\"Line\"},{\"attributes\":{\"source\":{\"id\":\"1499\"}},\"id\":\"1503\",\"type\":\"CDSView\"},{\"attributes\":{},\"id\":\"1473\",\"type\":\"LinearScale\"},{\"attributes\":{},\"id\":\"1471\",\"type\":\"DataRange1d\"},{\"attributes\":{\"data_source\":{\"id\":\"1504\"},\"glyph\":{\"id\":\"1505\"},\"hover_glyph\":null,\"muted_glyph\":null,\"nonselection_glyph\":{\"id\":\"1506\"},\"selection_glyph\":null,\"view\":{\"id\":\"1508\"}},\"id\":\"1507\",\"type\":\"GlyphRenderer\"},{\"attributes\":{\"data_source\":{\"id\":\"1499\"},\"glyph\":{\"id\":\"1500\"},\"hover_glyph\":null,\"muted_glyph\":null,\"nonselection_glyph\":{\"id\":\"1501\"},\"selection_glyph\":null,\"view\":{\"id\":\"1503\"}},\"id\":\"1502\",\"type\":\"GlyphRenderer\"},{\"attributes\":{},\"id\":\"1485\",\"type\":\"PanTool\"},{\"attributes\":{\"axis\":{\"id\":\"1477\"},\"ticker\":null},\"id\":\"1480\",\"type\":\"Grid\"},{\"attributes\":{\"formatter\":{\"id\":\"1546\"},\"ticker\":{\"id\":\"1482\"}},\"id\":\"1481\",\"type\":\"LinearAxis\"},{\"attributes\":{\"line_dash\":[6],\"line_width\":2,\"x\":{\"field\":\"x\"},\"y\":{\"field\":\"y\"}},\"id\":\"1500\",\"type\":\"Line\"},{\"attributes\":{},\"id\":\"1478\",\"type\":\"BasicTicker\"},{\"attributes\":{\"text\":\"Echantillonnage\"},\"id\":\"1467\",\"type\":\"Title\"},{\"attributes\":{\"data\":{\"x\":{\"__ndarray__\":\"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\",\"dtype\":\"float64\",\"order\":\"little\",\"shape\":[629]},\"y\":{\"__ndarray__\":\"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\",\"dtype\":\"float64\",\"order\":\"little\",\"shape\":[629]}},\"selected\":{\"id\":\"1550\"},\"selection_policy\":{\"id\":\"1551\"}},\"id\":\"1499\",\"type\":\"ColumnDataSource\"},{\"attributes\":{\"formatter\":{\"id\":\"1548\"},\"ticker\":{\"id\":\"1478\"}},\"id\":\"1477\",\"type\":\"LinearAxis\"},{\"attributes\":{},\"id\":\"1475\",\"type\":\"LinearScale\"},{\"attributes\":{},\"id\":\"1550\",\"type\":\"Selection\"},{\"attributes\":{},\"id\":\"1482\",\"type\":\"BasicTicker\"},{\"attributes\":{\"axis\":{\"id\":\"1481\"},\"dimension\":1,\"ticker\":null},\"id\":\"1484\",\"type\":\"Grid\"},{\"attributes\":{\"line_alpha\":0.1,\"line_dash\":[6],\"line_width\":2,\"x\":{\"field\":\"x\"},\"y\":{\"field\":\"y\"}},\"id\":\"1501\",\"type\":\"Line\"},{\"attributes\":{},\"id\":\"1486\",\"type\":\"WheelZoomTool\"},{\"attributes\":{},\"id\":\"1490\",\"type\":\"HelpTool\"},{\"attributes\":{\"overlay\":{\"id\":\"1491\"}},\"id\":\"1487\",\"type\":\"BoxZoomTool\"},{\"attributes\":{},\"id\":\"1489\",\"type\":\"ResetTool\"},{\"attributes\":{},\"id\":\"1488\",\"type\":\"SaveTool\"},{\"attributes\":{\"active_drag\":\"auto\",\"active_inspect\":\"auto\",\"active_multi\":null,\"active_scroll\":\"auto\",\"active_tap\":\"auto\",\"tools\":[{\"id\":\"1485\"},{\"id\":\"1486\"},{\"id\":\"1487\"},{\"id\":\"1488\"},{\"id\":\"1489\"},{\"id\":\"1490\"}]},\"id\":\"1492\",\"type\":\"Toolbar\"}],\"root_ids\":[\"1466\"]},\"title\":\"Bokeh Application\",\"version\":\"2.1.1\"}};\n",
       "  var render_items = [{\"docid\":\"d9d4c349-53f7-4639-8aed-5ab3360a4d75\",\"root_ids\":[\"1466\"],\"roots\":{\"1466\":\"15e54c74-e8af-42f2-a516-7c8420cae39d\"}}];\n",
       "  root.Bokeh.embed.embed_items_notebook(docs_json, render_items);\n",
       "\n",
       "  }\n",
       "  if (root.Bokeh !== undefined) {\n",
       "    embed_document(root);\n",
       "  } else {\n",
       "    var attempts = 0;\n",
       "    var timer = setInterval(function(root) {\n",
       "      if (root.Bokeh !== undefined) {\n",
       "        clearInterval(timer);\n",
       "        embed_document(root);\n",
       "      } else {\n",
       "        attempts++;\n",
       "        if (attempts > 100) {\n",
       "          clearInterval(timer);\n",
       "          console.log(\"Bokeh: ERROR: Unable to run BokehJS code because BokehJS library is missing\");\n",
       "        }\n",
       "      }\n",
       "    }, 10, root)\n",
       "  }\n",
       "})(window);"
      ],
      "application/vnd.bokehjs_exec.v0+json": ""
     },
     "metadata": {
      "application/vnd.bokehjs_exec.v0+json": {
       "id": "1466"
      }
     },
     "output_type": "display_data"
    }
   ],
   "source": [
    "x = np.arange(0, 20*math.pi, 0.1)\n",
    "y = np.sin(x)\n",
    "x1 = np.arange(0, 20*math.pi, math.pi/2)\n",
    "y1 = np.sin(x1)\n",
    "\n",
    "\n",
    "p2 = figure(plot_width=600, plot_height=400, title=\"Echantillonnage\", toolbar_location=\"above\")\n",
    "p2.line(x, y, line_width=2, line_color='black', line_dash = 'dashed')\n",
    "p2.line(x1, y1, line_width=2, line_color='firebrick')\n",
    "show(p2)"
   ]
  },
  {
   "cell_type": "markdown",
   "metadata": {
    "slideshow": {
     "slide_type": "subslide"
    }
   },
   "source": [
    "### Signal échantillonné\n",
    "\n",
    "> Au dessus de la fréquence de Nyquist"
   ]
  },
  {
   "cell_type": "code",
   "execution_count": 7,
   "metadata": {
    "slideshow": {
     "slide_type": "-"
    }
   },
   "outputs": [
    {
     "data": {
      "text/html": [
       "\n",
       "\n",
       "\n",
       "\n",
       "\n",
       "\n",
       "  <div class=\"bk-root\" id=\"092bc383-65fe-4b9d-8993-26063d507fc1\" data-root-id=\"1615\"></div>\n"
      ]
     },
     "metadata": {},
     "output_type": "display_data"
    },
    {
     "data": {
      "application/javascript": [
       "(function(root) {\n",
       "  function embed_document(root) {\n",
       "    \n",
       "  var docs_json = {\"a82e299e-cc46-4b6b-a781-04c4d75c116d\":{\"roots\":{\"references\":[{\"attributes\":{\"below\":[{\"id\":\"1626\"}],\"center\":[{\"id\":\"1629\"},{\"id\":\"1633\"}],\"left\":[{\"id\":\"1630\"}],\"plot_height\":400,\"renderers\":[{\"id\":\"1651\"},{\"id\":\"1656\"}],\"title\":{\"id\":\"1616\"},\"toolbar\":{\"id\":\"1641\"},\"toolbar_location\":\"above\",\"x_range\":{\"id\":\"1618\"},\"x_scale\":{\"id\":\"1622\"},\"y_range\":{\"id\":\"1620\"},\"y_scale\":{\"id\":\"1624\"}},\"id\":\"1615\",\"subtype\":\"Figure\",\"type\":\"Plot\"},{\"attributes\":{},\"id\":\"1634\",\"type\":\"PanTool\"},{\"attributes\":{},\"id\":\"1635\",\"type\":\"WheelZoomTool\"},{\"attributes\":{\"data_source\":{\"id\":\"1648\"},\"glyph\":{\"id\":\"1649\"},\"hover_glyph\":null,\"muted_glyph\":null,\"nonselection_glyph\":{\"id\":\"1650\"},\"selection_glyph\":null,\"view\":{\"id\":\"1652\"}},\"id\":\"1651\",\"type\":\"GlyphRenderer\"},{\"attributes\":{\"line_alpha\":0.1,\"line_dash\":[6],\"line_width\":2,\"x\":{\"field\":\"x\"},\"y\":{\"field\":\"y\"}},\"id\":\"1650\",\"type\":\"Line\"},{\"attributes\":{},\"id\":\"1618\",\"type\":\"DataRange1d\"},{\"attributes\":{\"active_drag\":\"auto\",\"active_inspect\":\"auto\",\"active_multi\":null,\"active_scroll\":\"auto\",\"active_tap\":\"auto\",\"tools\":[{\"id\":\"1634\"},{\"id\":\"1635\"},{\"id\":\"1636\"},{\"id\":\"1637\"},{\"id\":\"1638\"},{\"id\":\"1639\"}]},\"id\":\"1641\",\"type\":\"Toolbar\"},{\"attributes\":{\"line_color\":\"firebrick\",\"line_width\":2,\"x\":{\"field\":\"x\"},\"y\":{\"field\":\"y\"}},\"id\":\"1654\",\"type\":\"Line\"},{\"attributes\":{\"data_source\":{\"id\":\"1653\"},\"glyph\":{\"id\":\"1654\"},\"hover_glyph\":null,\"muted_glyph\":null,\"nonselection_glyph\":{\"id\":\"1655\"},\"selection_glyph\":null,\"view\":{\"id\":\"1657\"}},\"id\":\"1656\",\"type\":\"GlyphRenderer\"},{\"attributes\":{\"overlay\":{\"id\":\"1640\"}},\"id\":\"1636\",\"type\":\"BoxZoomTool\"},{\"attributes\":{},\"id\":\"1639\",\"type\":\"HelpTool\"},{\"attributes\":{},\"id\":\"1637\",\"type\":\"SaveTool\"},{\"attributes\":{},\"id\":\"1620\",\"type\":\"DataRange1d\"},{\"attributes\":{},\"id\":\"1638\",\"type\":\"ResetTool\"},{\"attributes\":{\"source\":{\"id\":\"1653\"}},\"id\":\"1657\",\"type\":\"CDSView\"},{\"attributes\":{\"line_alpha\":0.1,\"line_color\":\"firebrick\",\"line_width\":2,\"x\":{\"field\":\"x\"},\"y\":{\"field\":\"y\"}},\"id\":\"1655\",\"type\":\"Line\"},{\"attributes\":{\"text\":\"Echantillonnage\"},\"id\":\"1616\",\"type\":\"Title\"},{\"attributes\":{\"line_dash\":[6],\"line_width\":2,\"x\":{\"field\":\"x\"},\"y\":{\"field\":\"y\"}},\"id\":\"1649\",\"type\":\"Line\"},{\"attributes\":{},\"id\":\"1709\",\"type\":\"Selection\"},{\"attributes\":{},\"id\":\"1710\",\"type\":\"UnionRenderers\"},{\"attributes\":{},\"id\":\"1705\",\"type\":\"BasicTickFormatter\"},{\"attributes\":{\"source\":{\"id\":\"1648\"}},\"id\":\"1652\",\"type\":\"CDSView\"},{\"attributes\":{\"bottom_units\":\"screen\",\"fill_alpha\":0.5,\"fill_color\":\"lightgrey\",\"left_units\":\"screen\",\"level\":\"overlay\",\"line_alpha\":1.0,\"line_color\":\"black\",\"line_dash\":[4,4],\"line_width\":2,\"right_units\":\"screen\",\"top_units\":\"screen\"},\"id\":\"1640\",\"type\":\"BoxAnnotation\"},{\"attributes\":{},\"id\":\"1622\",\"type\":\"LinearScale\"},{\"attributes\":{},\"id\":\"1711\",\"type\":\"Selection\"},{\"attributes\":{\"data\":{\"x\":{\"__ndarray__\":\"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\",\"dtype\":\"float64\",\"order\":\"little\",\"shape\":[629]},\"y\":{\"__ndarray__\":\"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\",\"dtype\":\"float64\",\"order\":\"little\",\"shape\":[629]}},\"selected\":{\"id\":\"1709\"},\"selection_policy\":{\"id\":\"1710\"}},\"id\":\"1648\",\"type\":\"ColumnDataSource\"},{\"attributes\":{},\"id\":\"1712\",\"type\":\"UnionRenderers\"},{\"attributes\":{\"axis\":{\"id\":\"1630\"},\"dimension\":1,\"ticker\":null},\"id\":\"1633\",\"type\":\"Grid\"},{\"attributes\":{},\"id\":\"1627\",\"type\":\"BasicTicker\"},{\"attributes\":{},\"id\":\"1707\",\"type\":\"BasicTickFormatter\"},{\"attributes\":{\"formatter\":{\"id\":\"1705\"},\"ticker\":{\"id\":\"1631\"}},\"id\":\"1630\",\"type\":\"LinearAxis\"},{\"attributes\":{\"formatter\":{\"id\":\"1707\"},\"ticker\":{\"id\":\"1627\"}},\"id\":\"1626\",\"type\":\"LinearAxis\"},{\"attributes\":{\"data\":{\"x\":{\"__ndarray__\":\"AAAAAAAAAABmZmZmZmbmP2ZmZmZmZvY/zMzMzMzMAEBmZmZmZmYGQAAAAAAAAAxAzMzMzMzMEECZmZmZmZkTQGZmZmZmZhZAMzMzMzMzGUAAAAAAAAAcQMzMzMzMzB5AzMzMzMzMIEAzMzMzMzMiQJmZmZmZmSNAAAAAAAAAJUBmZmZmZmYmQMzMzMzMzCdAMzMzMzMzKUCZmZmZmZkqQAAAAAAAACxAZmZmZmZmLUDMzMzMzMwuQJmZmZmZGTBAzMzMzMzMMEAAAAAAAIAxQDMzMzMzMzJAZmZmZmbmMkCZmZmZmZkzQMzMzMzMTDRAAAAAAAAANUAzMzMzM7M1QGZmZmZmZjZAmZmZmZkZN0DMzMzMzMw3QAAAAAAAgDhAMzMzMzMzOUBmZmZmZuY5QJmZmZmZmTpAzMzMzMxMO0AAAAAAAAA8QDMzMzMzszxAZmZmZmZmPUCZmZmZmRk+QMzMzMzMzD5A//////9/P0CZmZmZmRlAQDMzMzMzc0BAzMzMzMzMQEBmZmZmZiZBQAAAAAAAgEFAmZmZmZnZQUAzMzMzMzNCQMzMzMzMjEJAZmZmZmbmQkAAAAAAAEBDQJmZmZmZmUNAMzMzMzPzQ0DMzMzMzExEQGZmZmZmpkRAAAAAAAAARUCZmZmZmVlFQDMzMzMzs0VAzMzMzMwMRkBmZmZmZmZGQAAAAAAAwEZAmZmZmZkZR0AzMzMzM3NHQMzMzMzMzEdAZmZmZmYmSEAAAAAAAIBIQJmZmZmZ2UhAMzMzMzMzSUDMzMzMzIxJQGZmZmZm5klAAAAAAABASkCZmZmZmZlKQDMzMzMz80pAzMzMzMxMS0BmZmZmZqZLQAAAAAAAAExAmZmZmZlZTEAzMzMzM7NMQMzMzMzMDE1AZmZmZmZmTUD//////79NQJmZmZmZGU5AMzMzMzNzTkDMzMzMzMxOQGZmZmZmJk9A\",\"dtype\":\"float64\",\"order\":\"little\",\"shape\":[90]},\"y\":{\"__ndarray__\":\"AAAAAAAAAAC4GUZpbp3kPwLhRN/NiO8//XLrP2mf6z/I5V0jcnDVPx9iun47c9a/1BLQ3/Lj67+l6yJ2QHDvv7v1lhdWM+S/fj7Lwqk3kT8ICm3CCAblP1dU7vwSn+8/ovctz99Y6z8X2Z+JG2zUP+Vts+BkdNe/FUPwuHcm7L+DpXWIbFXvv/APMHvHx+O/es1pQAo3oT/4y+CQHW3lP0VefDIOs+8/kYuOqFsQ6z9WkEKJSmbTP9iqYqzbc9i/crDH+vJm7L+AnFMHVDjvvyUJ+VzKWuO/vJ02pgDRqT8MJKhepdLlP/A+tA2+xO8/7dewC+LF6j8bsWsVEl/SP5EcVmSNcdm/vn2S+l+l7L+7wNgN+Rjvvx5zYKBm7OK/IiyGWYw0sT+C04XSmDbmPwMq3kYh1O8/FgSEXHh56j/WFEU7hVbRP1LB5qtnbdq/Jr2jM7rh7L9fX//gXffuv9imyUKkfOK/dTvllFl/tT85wYCw8JjmP8j+3MA24e8/99TeIiQr6j+UyJsgt0zQP+jLjEhYZ9u/Lyi5R/0b7b/4FXbvhNPuv625+FqLC+K/+Bi7fZjIuT8oBWrapfnmPw7rQon96+8/QzMZCuva6T+8h/oEdoPOP41kMSNNX9y/7Q9M/yRU7b/UwHLRcK3uv5OcfBgkmeG/tc1eqfkPvj86ymBQsVjnPxj3Yth09O8/TCCj4NKI6T8i46VnSGvMPzbafUk0Vd2/yH7fSS2K7b/XZ4JIJIXuv6dwF8N2JeG/xavd55YqwT/VAFQxDLbnP0l5XxGc+u8/Ex+Zl+E06T9bSvg3DFHKP+4pKO/7SN6/JohLPhK+7b/ULVY/olruvxoZJbqLsOC/xE2G6PJLwz/H1IG7rxHoP8dwNcJy/u8/Ex1WQh3f6D/aIM1q6DTIP/TDPG+SOt+/Wr4FG9Dv7b/KRI3J7S3uv/waAHRrOuC/\",\"dtype\":\"float64\",\"order\":\"little\",\"shape\":[90]}},\"selected\":{\"id\":\"1711\"},\"selection_policy\":{\"id\":\"1712\"}},\"id\":\"1653\",\"type\":\"ColumnDataSource\"},{\"attributes\":{},\"id\":\"1624\",\"type\":\"LinearScale\"},{\"attributes\":{\"axis\":{\"id\":\"1626\"},\"ticker\":null},\"id\":\"1629\",\"type\":\"Grid\"},{\"attributes\":{},\"id\":\"1631\",\"type\":\"BasicTicker\"}],\"root_ids\":[\"1615\"]},\"title\":\"Bokeh Application\",\"version\":\"2.1.1\"}};\n",
       "  var render_items = [{\"docid\":\"a82e299e-cc46-4b6b-a781-04c4d75c116d\",\"root_ids\":[\"1615\"],\"roots\":{\"1615\":\"092bc383-65fe-4b9d-8993-26063d507fc1\"}}];\n",
       "  root.Bokeh.embed.embed_items_notebook(docs_json, render_items);\n",
       "\n",
       "  }\n",
       "  if (root.Bokeh !== undefined) {\n",
       "    embed_document(root);\n",
       "  } else {\n",
       "    var attempts = 0;\n",
       "    var timer = setInterval(function(root) {\n",
       "      if (root.Bokeh !== undefined) {\n",
       "        clearInterval(timer);\n",
       "        embed_document(root);\n",
       "      } else {\n",
       "        attempts++;\n",
       "        if (attempts > 100) {\n",
       "          clearInterval(timer);\n",
       "          console.log(\"Bokeh: ERROR: Unable to run BokehJS code because BokehJS library is missing\");\n",
       "        }\n",
       "      }\n",
       "    }, 10, root)\n",
       "  }\n",
       "})(window);"
      ],
      "application/vnd.bokehjs_exec.v0+json": ""
     },
     "metadata": {
      "application/vnd.bokehjs_exec.v0+json": {
       "id": "1615"
      }
     },
     "output_type": "display_data"
    }
   ],
   "source": [
    "x = np.arange(0, 20*math.pi, 0.1)\n",
    "y = np.sin(x)\n",
    "x1 = np.arange(0, 20*math.pi, 0.7)\n",
    "y1 = np.sin(x1)\n",
    "\n",
    "p2 = figure(plot_width=600, plot_height=400, title=\"Echantillonnage\", toolbar_location=\"above\")\n",
    "p2.line(x, y, line_width=2, line_color='black', line_dash = 'dashed')\n",
    "p2.line(x1, y1, line_width=2, line_color='firebrick')\n",
    "\n",
    "show(p2)"
   ]
  },
  {
   "cell_type": "markdown",
   "metadata": {
    "slideshow": {
     "slide_type": "slide"
    }
   },
   "source": [
    "## Echantillonnage d'images"
   ]
  },
  {
   "cell_type": "markdown",
   "metadata": {
    "slideshow": {
     "slide_type": "subslide"
    }
   },
   "source": [
    "### Fréquence spatiale\n",
    "\n",
    "> La fréquence spatiale d'un imageur caractérise sa capacité à restituer des objets petits. Il est mesuré par le nombre de paires de lignes (cycles) que l'imageur peut restituer par unité de longueur (en général par mm).\n",
    "\n",
    "\n",
    "&nbsp;\n",
    "\n",
    "<img src=\"imgs\\mireB&W.jpg\"\n",
    "     style=\"float: left; margin-right: 50px; margin-left: 20px; height: 500\" />\n",
    "\n",
    "\n",
    "Sur l'exemple suivant, on considère que l'on arrive a faire cette image sur un capteur de 36mm de large. Pour déterminer la fréquence spatiale de l'image, il suffit de compter le nombre de cycles dans l'image (alternance noir/blanc) et de le diviser par la largeur de l'image en mm.\n",
    "\n",
    "Pour cette image la fréquence spatiale est de 10 cycles pour 36mm, soit:\n",
    "\n",
    "\\begin{equation*}\n",
    "\\frac{10}{36} = 0.278 \\ pl/mm\n",
    "\\end{equation*}\n"
   ]
  },
  {
   "cell_type": "markdown",
   "metadata": {
    "slideshow": {
     "slide_type": "subslide"
    }
   },
   "source": [
    "### Les images médicales\n",
    "\n",
    "> Images 2D, 3D, anatomiques, fonctionnelles, couleurs, B&W ... \n",
    "\n",
    "<img src=\"imgs\\imagerie médicale.png\"\n",
    "     style=\"float: left; margin-right: 50px; margin-left: 20px;\" />\n"
   ]
  },
  {
   "cell_type": "markdown",
   "metadata": {
    "slideshow": {
     "slide_type": "subslide"
    }
   },
   "source": [
    "### La radiologie classique\n",
    "\n",
    "> Images 2D de l'atténuation des photons X dans le corps du patient. Ce sont des images de transmission.\n",
    "\n",
    "<img src=\"imgs\\imagesRadiographie.png\"\n",
    "     style=\"float: left; margin-right: 50px; margin-left: 20px; height: 600px\" />\n"
   ]
  },
  {
   "cell_type": "markdown",
   "metadata": {
    "slideshow": {
     "slide_type": "subslide"
    }
   },
   "source": [
    "### Le scanner\n",
    "\n",
    "> Images 3D reconstruites de l'atténuation des photons X dans le corps du patient. Ce sont là encore des images de transmission.\n",
    "\n",
    "<img src=\"imgs\\imagesCT.png\"\n",
    "     style=\"float: left; margin-right: 50px; margin-left: 20px; height: 600px\" />\n"
   ]
  },
  {
   "cell_type": "markdown",
   "metadata": {
    "slideshow": {
     "slide_type": "subslide"
    }
   },
   "source": [
    "### La médecine nucléaire\n",
    "\n",
    "> Images 2D ou 3D reconstruites de la position d'émission de photons X dans le corps du patient. Ce sont des images d'émission.\n",
    "\n",
    "<img src=\"imgs\\imagesMN.png\"\n",
    "     style=\"float: left; margin-right: 50px; margin-left: 20px; height: 600px;\" />\n"
   ]
  },
  {
   "cell_type": "markdown",
   "metadata": {
    "slideshow": {
     "slide_type": "subslide"
    }
   },
   "source": [
    "### L'IRM\n",
    "\n",
    "> Images 2D/3D de la densité de protons libres dans le corps du patient. Ce sont des images créées par un processus d'excitation/lecture. De nombreuses séquences sont disponibles permettant de jouer sur le contraste des tissus. Il existe également des séquences d'IRM fonctionnelle permettant de s'intéresser à des paramètres fonctionnels tels que la diffusion.\n",
    "\n",
    "<img src=\"imgs\\imagesIRM.png\"\n",
    "     style=\"float: left; margin-right: 50px; margin-left: 20px; height: 550px\" />"
   ]
  },
  {
   "cell_type": "markdown",
   "metadata": {
    "slideshow": {
     "slide_type": "subslide"
    }
   },
   "source": [
    "### Les images échographiques\n",
    "\n",
    "> Images 2D/3D construites à partir de la réflexion des ultrasons dans le corps du patient. Ce sont des images d'excitation/lecture.\n",
    "\n",
    "<img src=\"imgs\\imagesEchographiques.png\"\n",
    "     style=\"float: left; margin-right: 50px; margin-left: 20px; height: 600px\" />"
   ]
  },
  {
   "cell_type": "markdown",
   "metadata": {
    "slideshow": {
     "slide_type": "subslide"
    }
   },
   "source": [
    "### Résolution spatiale des différentes modalités\n",
    "\n",
    "> Les valeurs suivantes sont les valeurs typiques de résolution spatiale et temps d'acquisition des images des différentes modalités.\n",
    "\n",
    "&nbsp;\n",
    "\n",
    "\n",
    "| Modalité   | Résolution spatiale      |  Temps d'acquisition |\n",
    "|----------|:--------------:|:------:|\n",
    "| PET |  4 mm | 3-20 mins |\n",
    "| SPECT |    6 mm   |   10-20 mins |\n",
    "| Radiologie | 0.1 mm |    0.02-3 s |\n",
    "| Scanner | 1 mm |    1-30 s |\n",
    "| IRM | 1 mm |    0.05 s-20 mins |\n",
    "| Echographie | 1 mm |    0.02 s |\n",
    "| Doppler | 3 mm |    0.05 s |\n"
   ]
  },
  {
   "cell_type": "markdown",
   "metadata": {
    "slideshow": {
     "slide_type": "slide"
    }
   },
   "source": [
    "## L'image numérique"
   ]
  },
  {
   "cell_type": "markdown",
   "metadata": {
    "slideshow": {
     "slide_type": "subslide"
    }
   },
   "source": [
    "### Analogique > Numérique\n",
    "\n",
    "> L'image numérique représente le corps (image analogique) de façon numérique (matricielle). Un échantillonnage a donc eu lieu.\n",
    "\n",
    "<img src=\"imgs\\imgNumerique.png\"\n",
    "     style=\"float: left; margin-right: 50px; margin-left: 20px;\" />"
   ]
  },
  {
   "cell_type": "markdown",
   "metadata": {
    "slideshow": {
     "slide_type": "subslide"
    }
   },
   "source": [
    "### Echantillonnage de l'image\n",
    "\n",
    "> Le corps est découpé en pixels avec une valeur pour chaque pixel.\n",
    "\n",
    "<img src=\"imgs\\echantillonnage.png\"\n",
    "     style=\"float: left; margin-right: 50px; margin-left: 20px; height: 650px\" />"
   ]
  },
  {
   "cell_type": "markdown",
   "metadata": {
    "slideshow": {
     "slide_type": "subslide"
    }
   },
   "source": [
    "### Profil d'une ligne de l'image\n",
    "\n",
    "> Représentation des valeurs des pixels de l'image.\n",
    "\n",
    "<img src=\"imgs\\imgFantomeLine.png\"\n",
    "     style=\"float: left; margin-right: 50px; margin-left: 20px; height: 500px\" />\n",
    "\n",
    "<img src=\"imgs\\imgFantomeLineProfile.png\"\n",
    "     style=\"float: right; margin-right: 50px; margin-left: 20px; height: 550px\" />"
   ]
  },
  {
   "cell_type": "markdown",
   "metadata": {
    "slideshow": {
     "slide_type": "subslide"
    }
   },
   "source": [
    "### Codage des valeurs\n",
    "\n",
    "> Chaque valeur de pixel est une valeur numérique. Suivant les besoins, on peut la coder sur un ou plusieurs octets.\n",
    "\n",
    "\n",
    "&nbsp;\n",
    "\n",
    "\n",
    "| Nb de bits   | Valeur minimale      |  Valeur maximale |\n",
    "|----------|:--------------:|:------:|\n",
    "| 6 bits |  0 | 63 ( 2^6-1) |\n",
    "| 8 bits |    0   | 255 (2^8-1) |\n",
    "| 12 bits | 0 | 4095 (2^12-1) |\n",
    "| 16 bits | 0 | 65535 (2^16-1) |\n",
    "\n",
    "\n",
    "&nbsp;\n",
    "\n",
    "\n",
    "En général, on utilise de 6 à 10 bits pour les échelles de couleurs, et au delà lorsque l'information a retranscrire le nécessite. \n",
    "\n"
   ]
  },
  {
   "cell_type": "markdown",
   "metadata": {
    "slideshow": {
     "slide_type": "subslide"
    }
   },
   "source": [
    "### Codage des valeurs\n",
    "\n",
    "\n",
    "Rque: Dans les fichiers DICOM, la valeur enregistrée dans l'image n'est pas forcément la valeur réelle. Il est parfois nécessaire d'utiliser les informations contenues dans le header pour revenir a la valeur réelles (rescale_slope & rescale_intercept)\n",
    "\n",
    "Rque: Il peut parfois y avoir plusieurs valeurs de stockées (c'est le cas quand une valeur est codée sur 6 bits par exemple) pour former une couleur sous la forme de ses trois composantes primaires (R, G et B).\n"
   ]
  },
  {
   "cell_type": "markdown",
   "metadata": {
    "slideshow": {
     "slide_type": "subslide"
    }
   },
   "source": [
    "### Histogramme de l'image\n",
    "\n",
    "> Représentation des valeurs des pixels de l'image.\n",
    "\n",
    "<img src=\"imgs\\imgFantome.png\"\n",
    "     style=\"float: left; margin-right: 50px; margin-left: 20px; height: 600px\" />\n",
    "\n",
    "<img src=\"imgs\\imgFantomehist.png\"\n",
    "     style=\"float: right; margin-right: 50px; margin-left: 20px; height: 550px\" />"
   ]
  },
  {
   "cell_type": "markdown",
   "metadata": {
    "slideshow": {
     "slide_type": "subslide"
    }
   },
   "source": [
    "### Histogrammes\n",
    "\n",
    "> Différents types d'histogrammes\n",
    "\n",
    "<img src=\"imgs\\histogrammes.png\"\n",
    "     style=\"float: left; margin-right: 50px; margin-left: 20px; height: 500px\" />\n"
   ]
  },
  {
   "cell_type": "markdown",
   "metadata": {
    "slideshow": {
     "slide_type": "subslide"
    }
   },
   "source": [
    "### Taille d'une image\n",
    "\n",
    "La taille S d'une image est définie par la formule suivante: \n",
    "\n",
    "\\begin{equation*}\n",
    "S = L * l * h * b\n",
    "\\end{equation*}\n",
    "\n",
    "où L et l sont les nombres de lignes et de colonnes de l'image dans le plan axial, h est le nombre de coupes et b le nombre d'octets par pixel. Cette formule donne la taille de l'image en octets\n",
    "\n",
    "\n",
    "Attention aux notations anglaises: 1 byte = 8 bits = 1 octet.\n",
    "\n",
    "\n",
    "\n",
    "<img src=\"imgs\\tailleImg.png\"\n",
    "     style=\"float: left; margin-right: 50px; margin-left: 100px; height: 400px\" />"
   ]
  },
  {
   "cell_type": "markdown",
   "metadata": {
    "slideshow": {
     "slide_type": "slide"
    }
   },
   "source": [
    "## Transformations d'images"
   ]
  },
  {
   "cell_type": "markdown",
   "metadata": {
    "slideshow": {
     "slide_type": "subslide"
    }
   },
   "source": [
    "### Crop\n",
    "\n",
    "> Sélectionner une partie de l'image\n",
    "\n",
    "<img src=\"imgs\\quick-crop.jpg\"\n",
    "     style=\"float: left; margin-right: 50px; margin-left: 20px; height: 600px\" />\n"
   ]
  },
  {
   "cell_type": "markdown",
   "metadata": {
    "slideshow": {
     "slide_type": "subslide"
    }
   },
   "source": [
    "### Transformations de l'image\n",
    "\n",
    "> Translations, changements d'échelle, rotations.\n",
    "\n",
    "<img src=\"imgs\\translations1.png\"\n",
    "     style=\"float: left; margin-right: 50px; margin-left: 20px; height: 600px\" />\n"
   ]
  },
  {
   "cell_type": "markdown",
   "metadata": {
    "slideshow": {
     "slide_type": "subslide"
    }
   },
   "source": [
    "### Transformations de l'image\n",
    "\n",
    "> Translations, changements d'échelle, rotations.\n",
    "\n",
    "<img src=\"imgs\\translations2.png\"\n",
    "     style=\"float: left; margin-right: 50px; margin-left: 20px; height: 600px\" />\n"
   ]
  },
  {
   "cell_type": "markdown",
   "metadata": {
    "slideshow": {
     "slide_type": "subslide"
    }
   },
   "source": [
    "### Interpolations\n",
    "\n",
    "> Trouver les valeurs intermédiaires.\n",
    "\n",
    "<img src=\"imgs\\interpolation.png\"\n",
    "     style=\"float: left; margin-right: 50px; margin-left: 20px; height: 600px\" />\n"
   ]
  },
  {
   "cell_type": "markdown",
   "metadata": {
    "slideshow": {
     "slide_type": "subslide"
    }
   },
   "source": [
    "### filtrage\n",
    "\n",
    "> application d'un filtre a une image. En général, il s'agit de la convolution de l'image f(x) avec une autre fonction h(x): \n",
    "\n",
    "\\begin{equation*}\n",
    "g(x) = f(x) \\ast h(x)\n",
    "\\end{equation*}\n",
    "\n",
    "\n",
    "<img src=\"imgs\\convolution.png\"\n",
    "     style=\"float: left; margin-right: 50px; margin-left: 100px; height: 500px\" />\n"
   ]
  },
  {
   "cell_type": "markdown",
   "metadata": {
    "slideshow": {
     "slide_type": "subslide"
    }
   },
   "source": [
    "### filtrage\n",
    "\n",
    "> Exemples d'application de filtres de lissage a une image.\n",
    "\n",
    "\n",
    "<img src=\"imgs\\filtresLenna.jpg\"\n",
    "     style=\"float: left; margin-right: 50px; margin-left: 20px; height: 600px\" />\n"
   ]
  },
  {
   "cell_type": "markdown",
   "metadata": {
    "slideshow": {
     "slide_type": "subslide"
    }
   },
   "source": [
    "### filtrage\n",
    "\n",
    "> Exemples d'application d'un filtre gradient a une image.\n",
    "\n",
    "\n",
    "<img src=\"imgs\\filtresGradient.gif\"\n",
    "     style=\"float: left; margin-right: 50px; margin-left: 20px; height: 600px\" />\n"
   ]
  },
  {
   "cell_type": "markdown",
   "metadata": {
    "slideshow": {
     "slide_type": "slide"
    }
   },
   "source": [
    "## Formats d'image"
   ]
  },
  {
   "cell_type": "markdown",
   "metadata": {
    "slideshow": {
     "slide_type": "subslide"
    }
   },
   "source": [
    "### Bitmap vs. vectoriel\n",
    "\n",
    "> Le cercle est défini par sa position et son rayon, permettant des manipulations à l'infini.\n",
    "\n",
    "\n",
    "<img src=\"imgs\\imgBmpVectorielles.png\"\n",
    "     style=\"float: left; margin-right: 50px; margin-left: 20px; height: 600px\" />\n"
   ]
  },
  {
   "cell_type": "markdown",
   "metadata": {
    "slideshow": {
     "slide_type": "subslide"
    }
   },
   "source": [
    "### Les principaux formats d'image\n",
    "\n",
    "> JPG, JPEG, PNG, TIFF, ...\n",
    "\n",
    "\n",
    "<img src=\"imgs\\formatsdimages.jpg\"\n",
    "     style=\"float: left; margin-right: 50px; margin-left: 20px; height: 500px\" />\n"
   ]
  },
  {
   "cell_type": "markdown",
   "metadata": {
    "slideshow": {
     "slide_type": "slide"
    }
   },
   "source": [
    "## Les images DICOM"
   ]
  },
  {
   "cell_type": "markdown",
   "metadata": {
    "slideshow": {
     "slide_type": "subslide"
    }
   },
   "source": [
    "### Intérêt ?\n",
    "\n",
    "\n",
    "<img src=\"imgs\\introDICOM.png\"\n",
    "     style=\"float: left; margin-right: 50px; margin-left: 20px; height: 600px\" />\n"
   ]
  },
  {
   "cell_type": "markdown",
   "metadata": {
    "slideshow": {
     "slide_type": "subslide"
    }
   },
   "source": [
    "### L'image DICOM\n",
    "\n",
    "> Matrice de valeurs (non compressée ou compression sans perte)\n",
    "\n",
    "\n",
    "<img src=\"imgs\\imgDICOM.png\"\n",
    "     style=\"float: left; margin-right: 50px; margin-left: 20px; height: 600px\" />\n"
   ]
  },
  {
   "cell_type": "markdown",
   "metadata": {
    "slideshow": {
     "slide_type": "subslide"
    }
   },
   "source": [
    "### L'entête DICOM\n",
    "\n",
    "> Informations sur l'image (paramètres d'acquisition, machine, cliniciens, ...).\n",
    "\n",
    "\n",
    "<img src=\"imgs\\infosDICOM.png\"\n",
    "     style=\"float: left; margin-right: 50px; margin-left: 20px; height:700px; \" />\n"
   ]
  },
  {
   "cell_type": "markdown",
   "metadata": {
    "slideshow": {
     "slide_type": "slide"
    }
   },
   "source": [
    "# FIN"
   ]
  },
  {
   "cell_type": "code",
   "execution_count": null,
   "metadata": {
    "slideshow": {
     "slide_type": "notes"
    }
   },
   "outputs": [],
   "source": []
  }
 ],
 "metadata": {
  "celltoolbar": "Diaporama",
  "kernelspec": {
   "display_name": "Python 3",
   "language": "python",
   "name": "python3"
  },
  "language_info": {
   "codemirror_mode": {
    "name": "ipython",
    "version": 3
   },
   "file_extension": ".py",
   "mimetype": "text/x-python",
   "name": "python",
   "nbconvert_exporter": "python",
   "pygments_lexer": "ipython3",
   "version": "3.8.3"
  }
 },
 "nbformat": 4,
 "nbformat_minor": 4
}
